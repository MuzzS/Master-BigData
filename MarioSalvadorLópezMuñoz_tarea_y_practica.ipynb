{
  "cells": [
    {
      "cell_type": "markdown",
      "metadata": {
        "id": "-JCY6rkOeqRZ"
      },
      "source": [
        "# Consultas SQL\n",
        "---------------------\n",
        "Abordemos las consultas SQL con un caso práctico.\n",
        "\n",
        "Consideremos la tienda de venta de productos para mascotas **Love4Pets**, la cual ha creado una base de datos SQL con el fin de llevar un control de sus empleados, ventas y suministro de productos."
      ]
    },
    {
      "cell_type": "code",
      "execution_count": 18,
      "metadata": {
        "colab": {
          "base_uri": "https://localhost:8080/"
        },
        "id": "BNBBe2_WEh5i",
        "outputId": "2285da84-3b64-48ed-c42b-536c26509e27"
      },
      "outputs": [
        {
          "output_type": "stream",
          "name": "stdout",
          "text": [
            "Requirement already satisfied: sqlalchemy==2.0.2 in /usr/local/lib/python3.10/dist-packages (2.0.2)\n",
            "Requirement already satisfied: typing-extensions>=4.2.0 in /usr/local/lib/python3.10/dist-packages (from sqlalchemy==2.0.2) (4.9.0)\n",
            "Requirement already satisfied: greenlet!=0.4.17 in /usr/local/lib/python3.10/dist-packages (from sqlalchemy==2.0.2) (3.0.3)\n",
            "Requirement already satisfied: ipython-sql in /usr/local/lib/python3.10/dist-packages (0.5.0)\n",
            "Requirement already satisfied: prettytable in /usr/local/lib/python3.10/dist-packages (from ipython-sql) (3.9.0)\n",
            "Requirement already satisfied: ipython in /usr/local/lib/python3.10/dist-packages (from ipython-sql) (7.34.0)\n",
            "Requirement already satisfied: sqlalchemy>=2.0 in /usr/local/lib/python3.10/dist-packages (from ipython-sql) (2.0.2)\n",
            "Requirement already satisfied: sqlparse in /usr/local/lib/python3.10/dist-packages (from ipython-sql) (0.4.4)\n",
            "Requirement already satisfied: six in /usr/local/lib/python3.10/dist-packages (from ipython-sql) (1.16.0)\n",
            "Requirement already satisfied: ipython-genutils in /usr/local/lib/python3.10/dist-packages (from ipython-sql) (0.2.0)\n",
            "Requirement already satisfied: typing-extensions>=4.2.0 in /usr/local/lib/python3.10/dist-packages (from sqlalchemy>=2.0->ipython-sql) (4.9.0)\n",
            "Requirement already satisfied: greenlet!=0.4.17 in /usr/local/lib/python3.10/dist-packages (from sqlalchemy>=2.0->ipython-sql) (3.0.3)\n",
            "Requirement already satisfied: setuptools>=18.5 in /usr/local/lib/python3.10/dist-packages (from ipython->ipython-sql) (67.7.2)\n",
            "Requirement already satisfied: jedi>=0.16 in /usr/local/lib/python3.10/dist-packages (from ipython->ipython-sql) (0.19.1)\n",
            "Requirement already satisfied: decorator in /usr/local/lib/python3.10/dist-packages (from ipython->ipython-sql) (4.4.2)\n",
            "Requirement already satisfied: pickleshare in /usr/local/lib/python3.10/dist-packages (from ipython->ipython-sql) (0.7.5)\n",
            "Requirement already satisfied: traitlets>=4.2 in /usr/local/lib/python3.10/dist-packages (from ipython->ipython-sql) (5.7.1)\n",
            "Requirement already satisfied: prompt-toolkit!=3.0.0,!=3.0.1,<3.1.0,>=2.0.0 in /usr/local/lib/python3.10/dist-packages (from ipython->ipython-sql) (3.0.43)\n",
            "Requirement already satisfied: pygments in /usr/local/lib/python3.10/dist-packages (from ipython->ipython-sql) (2.16.1)\n",
            "Requirement already satisfied: backcall in /usr/local/lib/python3.10/dist-packages (from ipython->ipython-sql) (0.2.0)\n",
            "Requirement already satisfied: matplotlib-inline in /usr/local/lib/python3.10/dist-packages (from ipython->ipython-sql) (0.1.6)\n",
            "Requirement already satisfied: pexpect>4.3 in /usr/local/lib/python3.10/dist-packages (from ipython->ipython-sql) (4.9.0)\n",
            "Requirement already satisfied: wcwidth in /usr/local/lib/python3.10/dist-packages (from prettytable->ipython-sql) (0.2.13)\n",
            "Requirement already satisfied: parso<0.9.0,>=0.8.3 in /usr/local/lib/python3.10/dist-packages (from jedi>=0.16->ipython->ipython-sql) (0.8.3)\n",
            "Requirement already satisfied: ptyprocess>=0.5 in /usr/local/lib/python3.10/dist-packages (from pexpect>4.3->ipython->ipython-sql) (0.7.0)\n"
          ]
        }
      ],
      "source": [
        "#!pip install sqlalchemy==1.4.4\n",
        "!pip install sqlalchemy==2.0.2\n",
        "!pip install ipython-sql"
      ]
    },
    {
      "cell_type": "code",
      "execution_count": 22,
      "metadata": {
        "id": "j7LmN5oLeqRd",
        "scrolled": true,
        "colab": {
          "base_uri": "https://localhost:8080/"
        },
        "outputId": "3bc13b43-5619-4365-cd4b-57035ec78e48"
      },
      "outputs": [
        {
          "output_type": "stream",
          "name": "stdout",
          "text": [
            "The sql extension is already loaded. To reload it, use:\n",
            "  %reload_ext sql\n"
          ]
        }
      ],
      "source": [
        "# %reload_ext sql\n",
        "%load_ext sql\n",
        "%sql sqlite:////content/love4pets.db"
      ]
    },
    {
      "cell_type": "markdown",
      "metadata": {
        "id": "hsBnYa-ieqRg"
      },
      "source": [
        "La base de datos **love4pets.db** contiene diferentes tablas, cada una almacena información relativa a un aspecto de la empresa, agrupando esta información en forma de campos.\n",
        "\n",
        "Por ejemplo **love4pets.db** tiene una tabla **departamento** que está formada por el código del departamento y el nombre que este departamento posee en la empresa. Podemos ver estos campos a continuación:"
      ]
    },
    {
      "cell_type": "code",
      "execution_count": 23,
      "metadata": {
        "colab": {
          "base_uri": "https://localhost:8080/",
          "height": 242
        },
        "id": "DdUaoAb9eqRh",
        "outputId": "e3fbfc2c-b015-40d5-8411-bdf3280cb184",
        "scrolled": true
      },
      "outputs": [
        {
          "output_type": "stream",
          "name": "stdout",
          "text": [
            " * sqlite:////content/love4pets.db\n",
            "   sqlite:///love4pets.db\n",
            "Done.\n"
          ]
        },
        {
          "output_type": "execute_result",
          "data": {
            "text/plain": [
              "[(1, 'finanzas'),\n",
              " (2, 'ventas'),\n",
              " (3, 'recursos humanos'),\n",
              " (4, 'marketing'),\n",
              " (5, 'veterinario'),\n",
              " (6, 'informatica'),\n",
              " (7, 'investigacion')]"
            ],
            "text/html": [
              "<table>\n",
              "    <thead>\n",
              "        <tr>\n",
              "            <th>departamento_id</th>\n",
              "            <th>nombre</th>\n",
              "        </tr>\n",
              "    </thead>\n",
              "    <tbody>\n",
              "        <tr>\n",
              "            <td>1</td>\n",
              "            <td>finanzas</td>\n",
              "        </tr>\n",
              "        <tr>\n",
              "            <td>2</td>\n",
              "            <td>ventas</td>\n",
              "        </tr>\n",
              "        <tr>\n",
              "            <td>3</td>\n",
              "            <td>recursos humanos</td>\n",
              "        </tr>\n",
              "        <tr>\n",
              "            <td>4</td>\n",
              "            <td>marketing</td>\n",
              "        </tr>\n",
              "        <tr>\n",
              "            <td>5</td>\n",
              "            <td>veterinario</td>\n",
              "        </tr>\n",
              "        <tr>\n",
              "            <td>6</td>\n",
              "            <td>informatica</td>\n",
              "        </tr>\n",
              "        <tr>\n",
              "            <td>7</td>\n",
              "            <td>investigacion</td>\n",
              "        </tr>\n",
              "    </tbody>\n",
              "</table>"
            ]
          },
          "metadata": {},
          "execution_count": 23
        }
      ],
      "source": [
        "%sql select * from departamento"
      ]
    },
    {
      "cell_type": "markdown",
      "metadata": {
        "id": "8o3L8O53eqRi"
      },
      "source": [
        "Otras tablas existentes en **love4pets.db** son:  \n",
        "* Empleado\n",
        "* Cliente\n",
        "* Mascota\n",
        "* Producto\n",
        "* Orden o Factura\n",
        "* Detalle_orden\n",
        "* Proveedor\n",
        "* Suministro"
      ]
    },
    {
      "cell_type": "markdown",
      "metadata": {
        "id": "WbYhope8eqRk"
      },
      "source": [
        "Consultas básicas de selección\n",
        "--------\n",
        "La sintaxis básica de una consulta de selección es la siguiente:\n",
        "\n",
        "```sql\n",
        "select Campo FROM Tabla;\n",
        "```\n",
        "Pero para hacer esa consulta debemos conocer el nombre del campo que queremos consultar. Podemos mostrar el \"schema\" o diseño de la tabla con la instrucción **PRAGMA table_info(Tabla);**"
      ]
    },
    {
      "cell_type": "code",
      "execution_count": 24,
      "metadata": {
        "colab": {
          "base_uri": "https://localhost:8080/",
          "height": 242
        },
        "id": "2vjdTNeBeqRk",
        "outputId": "a55e2585-15f4-4bc2-b0aa-21ea9b9ec66c",
        "scrolled": true
      },
      "outputs": [
        {
          "output_type": "stream",
          "name": "stdout",
          "text": [
            " * sqlite:////content/love4pets.db\n",
            "   sqlite:///love4pets.db\n",
            "Done.\n"
          ]
        },
        {
          "output_type": "execute_result",
          "data": {
            "text/plain": [
              "[(0, 'empleado_id', 'INTEGER', 1, None, 1),\n",
              " (1, 'nombre', 'TEXT', 1, None, 0),\n",
              " (2, 'email', 'TEXT', 0, None, 0),\n",
              " (3, 'telefono', 'TEXT', 0, None, 0),\n",
              " (4, 'salario', 'INTEGER', 1, None, 0),\n",
              " (5, 'fecha_ingreso', 'DATETIME', 1, 'CURRENT_DATE', 0),\n",
              " (6, 'departamento_id', 'INTEGER', 0, None, 0)]"
            ],
            "text/html": [
              "<table>\n",
              "    <thead>\n",
              "        <tr>\n",
              "            <th>cid</th>\n",
              "            <th>name</th>\n",
              "            <th>type</th>\n",
              "            <th>notnull</th>\n",
              "            <th>dflt_value</th>\n",
              "            <th>pk</th>\n",
              "        </tr>\n",
              "    </thead>\n",
              "    <tbody>\n",
              "        <tr>\n",
              "            <td>0</td>\n",
              "            <td>empleado_id</td>\n",
              "            <td>INTEGER</td>\n",
              "            <td>1</td>\n",
              "            <td>None</td>\n",
              "            <td>1</td>\n",
              "        </tr>\n",
              "        <tr>\n",
              "            <td>1</td>\n",
              "            <td>nombre</td>\n",
              "            <td>TEXT</td>\n",
              "            <td>1</td>\n",
              "            <td>None</td>\n",
              "            <td>0</td>\n",
              "        </tr>\n",
              "        <tr>\n",
              "            <td>2</td>\n",
              "            <td>email</td>\n",
              "            <td>TEXT</td>\n",
              "            <td>0</td>\n",
              "            <td>None</td>\n",
              "            <td>0</td>\n",
              "        </tr>\n",
              "        <tr>\n",
              "            <td>3</td>\n",
              "            <td>telefono</td>\n",
              "            <td>TEXT</td>\n",
              "            <td>0</td>\n",
              "            <td>None</td>\n",
              "            <td>0</td>\n",
              "        </tr>\n",
              "        <tr>\n",
              "            <td>4</td>\n",
              "            <td>salario</td>\n",
              "            <td>INTEGER</td>\n",
              "            <td>1</td>\n",
              "            <td>None</td>\n",
              "            <td>0</td>\n",
              "        </tr>\n",
              "        <tr>\n",
              "            <td>5</td>\n",
              "            <td>fecha_ingreso</td>\n",
              "            <td>DATETIME</td>\n",
              "            <td>1</td>\n",
              "            <td>CURRENT_DATE</td>\n",
              "            <td>0</td>\n",
              "        </tr>\n",
              "        <tr>\n",
              "            <td>6</td>\n",
              "            <td>departamento_id</td>\n",
              "            <td>INTEGER</td>\n",
              "            <td>0</td>\n",
              "            <td>None</td>\n",
              "            <td>0</td>\n",
              "        </tr>\n",
              "    </tbody>\n",
              "</table>"
            ]
          },
          "metadata": {},
          "execution_count": 24
        }
      ],
      "source": [
        "%sql PRAGMA table_info(empleado);"
      ]
    },
    {
      "cell_type": "markdown",
      "metadata": {
        "id": "q4GqzVS8eqRm"
      },
      "source": [
        "Podemos observar que la Tabla **empleado** contiene los campos:\n",
        "* empleado_id\n",
        "* nombre\n",
        "* email\n",
        "* telefono\n",
        "* salario\n",
        "* fecha_ingreso\n",
        "* departamento_id\n",
        "\n",
        "Veamos ahora un ejemplo de selección a alguno de estos campos:"
      ]
    },
    {
      "cell_type": "code",
      "execution_count": 25,
      "metadata": {
        "colab": {
          "base_uri": "https://localhost:8080/",
          "height": 349
        },
        "id": "kO_yvkQFeqRn",
        "outputId": "380212fd-183a-4bc9-ea5b-33380ce97d0d"
      },
      "outputs": [
        {
          "output_type": "stream",
          "name": "stdout",
          "text": [
            " * sqlite:////content/love4pets.db\n",
            "   sqlite:///love4pets.db\n",
            "Done.\n"
          ]
        },
        {
          "output_type": "execute_result",
          "data": {
            "text/plain": [
              "[('Andres Riera Herrera',),\n",
              " ('Lucas Serrano Caballero',),\n",
              " ('Pablo Pons Sanz',),\n",
              " ('Saul Moreno Santos',),\n",
              " ('Nil Soler Diez',),\n",
              " ('Sergio Reyes Gallardo',),\n",
              " ('Isaac Jimenez Ortiz',),\n",
              " ('Guillermo Vidal Gomez',),\n",
              " ('Daniel Quintero Quintero',),\n",
              " ('Juan Manuel Olivares',),\n",
              " ('Miguel Soto',),\n",
              " ('Alejandro Fernandez',)]"
            ],
            "text/html": [
              "<table>\n",
              "    <thead>\n",
              "        <tr>\n",
              "            <th>nombre</th>\n",
              "        </tr>\n",
              "    </thead>\n",
              "    <tbody>\n",
              "        <tr>\n",
              "            <td>Andres Riera Herrera</td>\n",
              "        </tr>\n",
              "        <tr>\n",
              "            <td>Lucas Serrano Caballero</td>\n",
              "        </tr>\n",
              "        <tr>\n",
              "            <td>Pablo Pons Sanz</td>\n",
              "        </tr>\n",
              "        <tr>\n",
              "            <td>Saul Moreno Santos</td>\n",
              "        </tr>\n",
              "        <tr>\n",
              "            <td>Nil Soler Diez</td>\n",
              "        </tr>\n",
              "        <tr>\n",
              "            <td>Sergio Reyes Gallardo</td>\n",
              "        </tr>\n",
              "        <tr>\n",
              "            <td>Isaac Jimenez Ortiz</td>\n",
              "        </tr>\n",
              "        <tr>\n",
              "            <td>Guillermo Vidal Gomez</td>\n",
              "        </tr>\n",
              "        <tr>\n",
              "            <td>Daniel Quintero Quintero</td>\n",
              "        </tr>\n",
              "        <tr>\n",
              "            <td>Juan Manuel Olivares</td>\n",
              "        </tr>\n",
              "        <tr>\n",
              "            <td>Miguel Soto</td>\n",
              "        </tr>\n",
              "        <tr>\n",
              "            <td>Alejandro Fernandez</td>\n",
              "        </tr>\n",
              "    </tbody>\n",
              "</table>"
            ]
          },
          "metadata": {},
          "execution_count": 25
        }
      ],
      "source": [
        "%sql select nombre FROM empleado;"
      ]
    },
    {
      "cell_type": "markdown",
      "metadata": {
        "id": "dV-em7hleqRq"
      },
      "source": [
        "Podemos agregar mas campos a mostrar en una misma consulta al separar los campos por comas(,) por ejemplo:"
      ]
    },
    {
      "cell_type": "code",
      "execution_count": 26,
      "metadata": {
        "colab": {
          "base_uri": "https://localhost:8080/",
          "height": 349
        },
        "id": "5ifW1igmeqRr",
        "outputId": "c47f01f3-b408-4ce4-f5a0-0b19530a6306",
        "scrolled": true
      },
      "outputs": [
        {
          "output_type": "stream",
          "name": "stdout",
          "text": [
            " * sqlite:////content/love4pets.db\n",
            "   sqlite:///love4pets.db\n",
            "Done.\n"
          ]
        },
        {
          "output_type": "execute_result",
          "data": {
            "text/plain": [
              "[('Andres Riera Herrera', '200-88-76'),\n",
              " ('Lucas Serrano Caballero', '115-24-36'),\n",
              " ('Pablo Pons Sanz', '748-72-75'),\n",
              " ('Saul Moreno Santos', '346-87-27'),\n",
              " ('Nil Soler Diez', '576-84-28'),\n",
              " ('Sergio Reyes Gallardo', '598-95-67'),\n",
              " ('Isaac Jimenez Ortiz', '370-19-65'),\n",
              " ('Guillermo Vidal Gomez', '099-05-68'),\n",
              " ('Daniel Quintero Quintero', '261-97-06'),\n",
              " ('Juan Manuel Olivares', '269-37-06'),\n",
              " ('Miguel Soto', '269-92-06'),\n",
              " ('Alejandro Fernandez', '119-91-16')]"
            ],
            "text/html": [
              "<table>\n",
              "    <thead>\n",
              "        <tr>\n",
              "            <th>nombre</th>\n",
              "            <th>telefono</th>\n",
              "        </tr>\n",
              "    </thead>\n",
              "    <tbody>\n",
              "        <tr>\n",
              "            <td>Andres Riera Herrera</td>\n",
              "            <td>200-88-76</td>\n",
              "        </tr>\n",
              "        <tr>\n",
              "            <td>Lucas Serrano Caballero</td>\n",
              "            <td>115-24-36</td>\n",
              "        </tr>\n",
              "        <tr>\n",
              "            <td>Pablo Pons Sanz</td>\n",
              "            <td>748-72-75</td>\n",
              "        </tr>\n",
              "        <tr>\n",
              "            <td>Saul Moreno Santos</td>\n",
              "            <td>346-87-27</td>\n",
              "        </tr>\n",
              "        <tr>\n",
              "            <td>Nil Soler Diez</td>\n",
              "            <td>576-84-28</td>\n",
              "        </tr>\n",
              "        <tr>\n",
              "            <td>Sergio Reyes Gallardo</td>\n",
              "            <td>598-95-67</td>\n",
              "        </tr>\n",
              "        <tr>\n",
              "            <td>Isaac Jimenez Ortiz</td>\n",
              "            <td>370-19-65</td>\n",
              "        </tr>\n",
              "        <tr>\n",
              "            <td>Guillermo Vidal Gomez</td>\n",
              "            <td>099-05-68</td>\n",
              "        </tr>\n",
              "        <tr>\n",
              "            <td>Daniel Quintero Quintero</td>\n",
              "            <td>261-97-06</td>\n",
              "        </tr>\n",
              "        <tr>\n",
              "            <td>Juan Manuel Olivares</td>\n",
              "            <td>269-37-06</td>\n",
              "        </tr>\n",
              "        <tr>\n",
              "            <td>Miguel Soto</td>\n",
              "            <td>269-92-06</td>\n",
              "        </tr>\n",
              "        <tr>\n",
              "            <td>Alejandro Fernandez</td>\n",
              "            <td>119-91-16</td>\n",
              "        </tr>\n",
              "    </tbody>\n",
              "</table>"
            ]
          },
          "metadata": {},
          "execution_count": 26
        }
      ],
      "source": [
        "%sql select nombre, telefono FROM empleado;"
      ]
    },
    {
      "cell_type": "markdown",
      "metadata": {
        "id": "a8kwsY6MeqRs"
      },
      "source": [
        "Tambien es posible solicitar todos los campos de una tabla con el signo asterisco(*):"
      ]
    },
    {
      "cell_type": "code",
      "execution_count": 27,
      "metadata": {
        "colab": {
          "base_uri": "https://localhost:8080/",
          "height": 349
        },
        "id": "IsqRvGdHeqRt",
        "outputId": "cee4d750-acf4-46eb-df9a-4f9cea2c67b3"
      },
      "outputs": [
        {
          "output_type": "stream",
          "name": "stdout",
          "text": [
            " * sqlite:////content/love4pets.db\n",
            "   sqlite:///love4pets.db\n",
            "Done.\n"
          ]
        },
        {
          "output_type": "execute_result",
          "data": {
            "text/plain": [
              "[(1, 'Andres Riera Herrera', 'andresr@gmail.com', '200-88-76', 1500, '2017-05-17 00:00:000', 6),\n",
              " (2, 'Lucas Serrano Caballero', 'lucas99@gmail.com', '115-24-36', 1200, '2018-05-17 00:00:000', 2),\n",
              " (3, 'Pablo Pons Sanz', 'ppsanz@gmail.com', '748-72-75', 1350, '2016-07-01 00:00:000', 1),\n",
              " (4, 'Saul Moreno Santos', 'saul.morenosantos@gmail.com', '346-87-27', 1600, '2016-07-01 00:00:000', 1),\n",
              " (5, 'Nil Soler Diez', 'nilsoler@gmail.com', '576-84-28', 1100, '2016-04-03 00:00:000', 5),\n",
              " (6, 'Sergio Reyes Gallardo', 'zerg@gmail.com', '598-95-67', 1000, '2016-04-03 00:00:000', 5),\n",
              " (7, 'Isaac Jimenez Ortiz', 'isaacortiz@gmail.com', '370-19-65', 1600, '2016-07-08 00:00:000', 3),\n",
              " (8, 'Guillermo Vidal Gomez', 'guillevidal@gmail.com', '099-05-68', 1400, '2016-01-03 00:00:000', 3),\n",
              " (9, 'Daniel Quintero Quintero', 'danielquinterox2@gmail.com', '261-97-06', 1500, '2017-03-05 00:00:000', 6),\n",
              " (10, 'Juan Manuel Olivares', 'juanma@gmail.com', '269-37-06', 1500, '2017-03-05 00:00:000', None),\n",
              " (11, 'Miguel Soto', 'misoto@gmail.com', '269-92-06', 1900, '2017-03-05 00:00:000', 6),\n",
              " (12, 'Alejandro Fernandez', 'alefer@gmail.com', '119-91-16', 1850, '2017-03-05 00:00:000', 6)]"
            ],
            "text/html": [
              "<table>\n",
              "    <thead>\n",
              "        <tr>\n",
              "            <th>empleado_id</th>\n",
              "            <th>nombre</th>\n",
              "            <th>email</th>\n",
              "            <th>telefono</th>\n",
              "            <th>salario</th>\n",
              "            <th>fecha_ingreso</th>\n",
              "            <th>departamento_id</th>\n",
              "        </tr>\n",
              "    </thead>\n",
              "    <tbody>\n",
              "        <tr>\n",
              "            <td>1</td>\n",
              "            <td>Andres Riera Herrera</td>\n",
              "            <td>andresr@gmail.com</td>\n",
              "            <td>200-88-76</td>\n",
              "            <td>1500</td>\n",
              "            <td>2017-05-17 00:00:000</td>\n",
              "            <td>6</td>\n",
              "        </tr>\n",
              "        <tr>\n",
              "            <td>2</td>\n",
              "            <td>Lucas Serrano Caballero</td>\n",
              "            <td>lucas99@gmail.com</td>\n",
              "            <td>115-24-36</td>\n",
              "            <td>1200</td>\n",
              "            <td>2018-05-17 00:00:000</td>\n",
              "            <td>2</td>\n",
              "        </tr>\n",
              "        <tr>\n",
              "            <td>3</td>\n",
              "            <td>Pablo Pons Sanz</td>\n",
              "            <td>ppsanz@gmail.com</td>\n",
              "            <td>748-72-75</td>\n",
              "            <td>1350</td>\n",
              "            <td>2016-07-01 00:00:000</td>\n",
              "            <td>1</td>\n",
              "        </tr>\n",
              "        <tr>\n",
              "            <td>4</td>\n",
              "            <td>Saul Moreno Santos</td>\n",
              "            <td>saul.morenosantos@gmail.com</td>\n",
              "            <td>346-87-27</td>\n",
              "            <td>1600</td>\n",
              "            <td>2016-07-01 00:00:000</td>\n",
              "            <td>1</td>\n",
              "        </tr>\n",
              "        <tr>\n",
              "            <td>5</td>\n",
              "            <td>Nil Soler Diez</td>\n",
              "            <td>nilsoler@gmail.com</td>\n",
              "            <td>576-84-28</td>\n",
              "            <td>1100</td>\n",
              "            <td>2016-04-03 00:00:000</td>\n",
              "            <td>5</td>\n",
              "        </tr>\n",
              "        <tr>\n",
              "            <td>6</td>\n",
              "            <td>Sergio Reyes Gallardo</td>\n",
              "            <td>zerg@gmail.com</td>\n",
              "            <td>598-95-67</td>\n",
              "            <td>1000</td>\n",
              "            <td>2016-04-03 00:00:000</td>\n",
              "            <td>5</td>\n",
              "        </tr>\n",
              "        <tr>\n",
              "            <td>7</td>\n",
              "            <td>Isaac Jimenez Ortiz</td>\n",
              "            <td>isaacortiz@gmail.com</td>\n",
              "            <td>370-19-65</td>\n",
              "            <td>1600</td>\n",
              "            <td>2016-07-08 00:00:000</td>\n",
              "            <td>3</td>\n",
              "        </tr>\n",
              "        <tr>\n",
              "            <td>8</td>\n",
              "            <td>Guillermo Vidal Gomez</td>\n",
              "            <td>guillevidal@gmail.com</td>\n",
              "            <td>099-05-68</td>\n",
              "            <td>1400</td>\n",
              "            <td>2016-01-03 00:00:000</td>\n",
              "            <td>3</td>\n",
              "        </tr>\n",
              "        <tr>\n",
              "            <td>9</td>\n",
              "            <td>Daniel Quintero Quintero</td>\n",
              "            <td>danielquinterox2@gmail.com</td>\n",
              "            <td>261-97-06</td>\n",
              "            <td>1500</td>\n",
              "            <td>2017-03-05 00:00:000</td>\n",
              "            <td>6</td>\n",
              "        </tr>\n",
              "        <tr>\n",
              "            <td>10</td>\n",
              "            <td>Juan Manuel Olivares</td>\n",
              "            <td>juanma@gmail.com</td>\n",
              "            <td>269-37-06</td>\n",
              "            <td>1500</td>\n",
              "            <td>2017-03-05 00:00:000</td>\n",
              "            <td>None</td>\n",
              "        </tr>\n",
              "        <tr>\n",
              "            <td>11</td>\n",
              "            <td>Miguel Soto</td>\n",
              "            <td>misoto@gmail.com</td>\n",
              "            <td>269-92-06</td>\n",
              "            <td>1900</td>\n",
              "            <td>2017-03-05 00:00:000</td>\n",
              "            <td>6</td>\n",
              "        </tr>\n",
              "        <tr>\n",
              "            <td>12</td>\n",
              "            <td>Alejandro Fernandez</td>\n",
              "            <td>alefer@gmail.com</td>\n",
              "            <td>119-91-16</td>\n",
              "            <td>1850</td>\n",
              "            <td>2017-03-05 00:00:000</td>\n",
              "            <td>6</td>\n",
              "        </tr>\n",
              "    </tbody>\n",
              "</table>"
            ]
          },
          "metadata": {},
          "execution_count": 27
        }
      ],
      "source": [
        "%sql select * FROM empleado;"
      ]
    },
    {
      "cell_type": "markdown",
      "metadata": {
        "id": "EoKTspwI9P8q"
      },
      "source": [
        "### **Ejercicio 1**\n",
        "--------\n",
        "Complete el siguiente código para obtener un listado de los nombres, telefonos, y el correo electrónico de todos los clientes y asi contactarlos para notificarles de una promoción."
      ]
    },
    {
      "cell_type": "code",
      "execution_count": 28,
      "metadata": {
        "colab": {
          "base_uri": "https://localhost:8080/",
          "height": 413
        },
        "id": "Fwuv_K2keqRu",
        "outputId": "17d0ad48-c1ea-4c34-ddeb-1e3a08f9e71a"
      },
      "outputs": [
        {
          "output_type": "stream",
          "name": "stdout",
          "text": [
            " * sqlite:////content/love4pets.db\n",
            "   sqlite:///love4pets.db\n",
            "Done.\n"
          ]
        },
        {
          "output_type": "execute_result",
          "data": {
            "text/plain": [
              "[('Mario Flores Gallardo', 'marioflores@gmail.com', '036-15-36'),\n",
              " ('Arnau Medina Garcia', 'arnaumedina@gmail.com', '094-10-88'),\n",
              " ('Ivan Medina Rubio', 'ivanmedina@gmail.com', '083-08-72'),\n",
              " ('Jan Vargas Santana', 'vargasjan@gmail.com', '780-65-24'),\n",
              " ('Carlos Costa Guerrero', 'carloscostag@gmail.com', '180-65-24'),\n",
              " ('Roberto Martin Ortega', 'robertmartin@gmail.com', '742-63-27'),\n",
              " ('Gabriel Gonzalez Ortega', 'gabogonzo@gmail.com', '780-13-14'),\n",
              " ('Rayan Leon Ferrer', 'rayito@gmail.com', '430-65-24'),\n",
              " ('Aitor Ruiz Sanchez', 'aitorsanchez@gmail.com', '780-77-24'),\n",
              " ('Eric Rubio Carrasco', 'ericrubio@gmail.com', '780-65-79'),\n",
              " ('Alberto Sanz Ruiz', 'albert@gmail.com', '781-15-24'),\n",
              " ('Jesus Medina Hernandez', 'jmedinah@gmail.com', '782-35-25'),\n",
              " ('Pol Moya Pena', 'polmoya@gmail.com', '780-25-24'),\n",
              " ('Jose Gallardo Rodriguez', 'josegallardo@gmail.com', '783-65-11'),\n",
              " ('Manuel Angel Gil', 'manano@gmail.com', '733-65-16')]"
            ],
            "text/html": [
              "<table>\n",
              "    <thead>\n",
              "        <tr>\n",
              "            <th>nombre</th>\n",
              "            <th>email</th>\n",
              "            <th>telefono</th>\n",
              "        </tr>\n",
              "    </thead>\n",
              "    <tbody>\n",
              "        <tr>\n",
              "            <td>Mario Flores Gallardo</td>\n",
              "            <td>marioflores@gmail.com</td>\n",
              "            <td>036-15-36</td>\n",
              "        </tr>\n",
              "        <tr>\n",
              "            <td>Arnau Medina Garcia</td>\n",
              "            <td>arnaumedina@gmail.com</td>\n",
              "            <td>094-10-88</td>\n",
              "        </tr>\n",
              "        <tr>\n",
              "            <td>Ivan Medina Rubio</td>\n",
              "            <td>ivanmedina@gmail.com</td>\n",
              "            <td>083-08-72</td>\n",
              "        </tr>\n",
              "        <tr>\n",
              "            <td>Jan Vargas Santana</td>\n",
              "            <td>vargasjan@gmail.com</td>\n",
              "            <td>780-65-24</td>\n",
              "        </tr>\n",
              "        <tr>\n",
              "            <td>Carlos Costa Guerrero</td>\n",
              "            <td>carloscostag@gmail.com</td>\n",
              "            <td>180-65-24</td>\n",
              "        </tr>\n",
              "        <tr>\n",
              "            <td>Roberto Martin Ortega</td>\n",
              "            <td>robertmartin@gmail.com</td>\n",
              "            <td>742-63-27</td>\n",
              "        </tr>\n",
              "        <tr>\n",
              "            <td>Gabriel Gonzalez Ortega</td>\n",
              "            <td>gabogonzo@gmail.com</td>\n",
              "            <td>780-13-14</td>\n",
              "        </tr>\n",
              "        <tr>\n",
              "            <td>Rayan Leon Ferrer</td>\n",
              "            <td>rayito@gmail.com</td>\n",
              "            <td>430-65-24</td>\n",
              "        </tr>\n",
              "        <tr>\n",
              "            <td>Aitor Ruiz Sanchez</td>\n",
              "            <td>aitorsanchez@gmail.com</td>\n",
              "            <td>780-77-24</td>\n",
              "        </tr>\n",
              "        <tr>\n",
              "            <td>Eric Rubio Carrasco</td>\n",
              "            <td>ericrubio@gmail.com</td>\n",
              "            <td>780-65-79</td>\n",
              "        </tr>\n",
              "        <tr>\n",
              "            <td>Alberto Sanz Ruiz</td>\n",
              "            <td>albert@gmail.com</td>\n",
              "            <td>781-15-24</td>\n",
              "        </tr>\n",
              "        <tr>\n",
              "            <td>Jesus Medina Hernandez</td>\n",
              "            <td>jmedinah@gmail.com</td>\n",
              "            <td>782-35-25</td>\n",
              "        </tr>\n",
              "        <tr>\n",
              "            <td>Pol Moya Pena</td>\n",
              "            <td>polmoya@gmail.com</td>\n",
              "            <td>780-25-24</td>\n",
              "        </tr>\n",
              "        <tr>\n",
              "            <td>Jose Gallardo Rodriguez</td>\n",
              "            <td>josegallardo@gmail.com</td>\n",
              "            <td>783-65-11</td>\n",
              "        </tr>\n",
              "        <tr>\n",
              "            <td>Manuel Angel Gil</td>\n",
              "            <td>manano@gmail.com</td>\n",
              "            <td>733-65-16</td>\n",
              "        </tr>\n",
              "    </tbody>\n",
              "</table>"
            ]
          },
          "metadata": {},
          "execution_count": 28
        }
      ],
      "source": [
        "%sql select nombre, email, telefono from cliente;"
      ]
    },
    {
      "cell_type": "markdown",
      "metadata": {
        "id": "LsbjEnYieqRv"
      },
      "source": [
        "### Ordenar los registros, ORDER BY\n",
        "--------\n",
        "Es posible especificar el orden en que queremos que se muestre resultado de una consulta, esto se consigue con la clausula **ORDER BY**\n",
        "```sql\n",
        "select campo1,campo2,...,campoN FROM Tabla ORDER BY campoX;\n",
        "```\n",
        "Veamos un ejemplo sobre la tabla empleado:\n",
        "\n",
        "**Liste los empleados de Love4Pets ordenados por su salario**"
      ]
    },
    {
      "cell_type": "code",
      "execution_count": 29,
      "metadata": {
        "colab": {
          "base_uri": "https://localhost:8080/",
          "height": 349
        },
        "id": "IU78_BjxeqRv",
        "outputId": "fa063c85-07d6-49b7-8542-683f87a85913"
      },
      "outputs": [
        {
          "output_type": "stream",
          "name": "stdout",
          "text": [
            " * sqlite:////content/love4pets.db\n",
            "   sqlite:///love4pets.db\n",
            "Done.\n"
          ]
        },
        {
          "output_type": "execute_result",
          "data": {
            "text/plain": [
              "[('Sergio Reyes Gallardo', 1000),\n",
              " ('Nil Soler Diez', 1100),\n",
              " ('Lucas Serrano Caballero', 1200),\n",
              " ('Pablo Pons Sanz', 1350),\n",
              " ('Guillermo Vidal Gomez', 1400),\n",
              " ('Andres Riera Herrera', 1500),\n",
              " ('Daniel Quintero Quintero', 1500),\n",
              " ('Juan Manuel Olivares', 1500),\n",
              " ('Saul Moreno Santos', 1600),\n",
              " ('Isaac Jimenez Ortiz', 1600),\n",
              " ('Alejandro Fernandez', 1850),\n",
              " ('Miguel Soto', 1900)]"
            ],
            "text/html": [
              "<table>\n",
              "    <thead>\n",
              "        <tr>\n",
              "            <th>nombre</th>\n",
              "            <th>salario</th>\n",
              "        </tr>\n",
              "    </thead>\n",
              "    <tbody>\n",
              "        <tr>\n",
              "            <td>Sergio Reyes Gallardo</td>\n",
              "            <td>1000</td>\n",
              "        </tr>\n",
              "        <tr>\n",
              "            <td>Nil Soler Diez</td>\n",
              "            <td>1100</td>\n",
              "        </tr>\n",
              "        <tr>\n",
              "            <td>Lucas Serrano Caballero</td>\n",
              "            <td>1200</td>\n",
              "        </tr>\n",
              "        <tr>\n",
              "            <td>Pablo Pons Sanz</td>\n",
              "            <td>1350</td>\n",
              "        </tr>\n",
              "        <tr>\n",
              "            <td>Guillermo Vidal Gomez</td>\n",
              "            <td>1400</td>\n",
              "        </tr>\n",
              "        <tr>\n",
              "            <td>Andres Riera Herrera</td>\n",
              "            <td>1500</td>\n",
              "        </tr>\n",
              "        <tr>\n",
              "            <td>Daniel Quintero Quintero</td>\n",
              "            <td>1500</td>\n",
              "        </tr>\n",
              "        <tr>\n",
              "            <td>Juan Manuel Olivares</td>\n",
              "            <td>1500</td>\n",
              "        </tr>\n",
              "        <tr>\n",
              "            <td>Saul Moreno Santos</td>\n",
              "            <td>1600</td>\n",
              "        </tr>\n",
              "        <tr>\n",
              "            <td>Isaac Jimenez Ortiz</td>\n",
              "            <td>1600</td>\n",
              "        </tr>\n",
              "        <tr>\n",
              "            <td>Alejandro Fernandez</td>\n",
              "            <td>1850</td>\n",
              "        </tr>\n",
              "        <tr>\n",
              "            <td>Miguel Soto</td>\n",
              "            <td>1900</td>\n",
              "        </tr>\n",
              "    </tbody>\n",
              "</table>"
            ]
          },
          "metadata": {},
          "execution_count": 29
        }
      ],
      "source": [
        "%sql select nombre, salario FROM empleado ORDER BY salario;"
      ]
    },
    {
      "cell_type": "markdown",
      "metadata": {
        "id": "4Q6sudqLeqRw"
      },
      "source": [
        "Se puede ordenar el resultado por mas de un campo, por ejemplo podemos ordenar los empleados segun su sueldo usando el campo **salario** y además en orden alfabetico por el campo **nombre**"
      ]
    },
    {
      "cell_type": "code",
      "execution_count": 30,
      "metadata": {
        "colab": {
          "base_uri": "https://localhost:8080/",
          "height": 349
        },
        "id": "UY6lKrJSeqRw",
        "outputId": "d644df30-fb13-4e1a-ae8c-01dad95fc54c"
      },
      "outputs": [
        {
          "output_type": "stream",
          "name": "stdout",
          "text": [
            " * sqlite:////content/love4pets.db\n",
            "   sqlite:///love4pets.db\n",
            "Done.\n"
          ]
        },
        {
          "output_type": "execute_result",
          "data": {
            "text/plain": [
              "[('Sergio Reyes Gallardo', 1000),\n",
              " ('Nil Soler Diez', 1100),\n",
              " ('Lucas Serrano Caballero', 1200),\n",
              " ('Pablo Pons Sanz', 1350),\n",
              " ('Guillermo Vidal Gomez', 1400),\n",
              " ('Andres Riera Herrera', 1500),\n",
              " ('Daniel Quintero Quintero', 1500),\n",
              " ('Juan Manuel Olivares', 1500),\n",
              " ('Isaac Jimenez Ortiz', 1600),\n",
              " ('Saul Moreno Santos', 1600),\n",
              " ('Alejandro Fernandez', 1850),\n",
              " ('Miguel Soto', 1900)]"
            ],
            "text/html": [
              "<table>\n",
              "    <thead>\n",
              "        <tr>\n",
              "            <th>nombre</th>\n",
              "            <th>salario</th>\n",
              "        </tr>\n",
              "    </thead>\n",
              "    <tbody>\n",
              "        <tr>\n",
              "            <td>Sergio Reyes Gallardo</td>\n",
              "            <td>1000</td>\n",
              "        </tr>\n",
              "        <tr>\n",
              "            <td>Nil Soler Diez</td>\n",
              "            <td>1100</td>\n",
              "        </tr>\n",
              "        <tr>\n",
              "            <td>Lucas Serrano Caballero</td>\n",
              "            <td>1200</td>\n",
              "        </tr>\n",
              "        <tr>\n",
              "            <td>Pablo Pons Sanz</td>\n",
              "            <td>1350</td>\n",
              "        </tr>\n",
              "        <tr>\n",
              "            <td>Guillermo Vidal Gomez</td>\n",
              "            <td>1400</td>\n",
              "        </tr>\n",
              "        <tr>\n",
              "            <td>Andres Riera Herrera</td>\n",
              "            <td>1500</td>\n",
              "        </tr>\n",
              "        <tr>\n",
              "            <td>Daniel Quintero Quintero</td>\n",
              "            <td>1500</td>\n",
              "        </tr>\n",
              "        <tr>\n",
              "            <td>Juan Manuel Olivares</td>\n",
              "            <td>1500</td>\n",
              "        </tr>\n",
              "        <tr>\n",
              "            <td>Isaac Jimenez Ortiz</td>\n",
              "            <td>1600</td>\n",
              "        </tr>\n",
              "        <tr>\n",
              "            <td>Saul Moreno Santos</td>\n",
              "            <td>1600</td>\n",
              "        </tr>\n",
              "        <tr>\n",
              "            <td>Alejandro Fernandez</td>\n",
              "            <td>1850</td>\n",
              "        </tr>\n",
              "        <tr>\n",
              "            <td>Miguel Soto</td>\n",
              "            <td>1900</td>\n",
              "        </tr>\n",
              "    </tbody>\n",
              "</table>"
            ]
          },
          "metadata": {},
          "execution_count": 30
        }
      ],
      "source": [
        "%sql select nombre, salario FROM empleado ORDER BY salario, nombre;"
      ]
    },
    {
      "cell_type": "markdown",
      "metadata": {
        "id": "ex0n3BBEeqRx"
      },
      "source": [
        "Además puede usarse el ordenar por campos de forma independiente, de forma ASCENDENTE mediante la clausula **ASC** y DESCENDENTE mediante la clausula **DESC**"
      ]
    },
    {
      "cell_type": "code",
      "execution_count": null,
      "metadata": {
        "colab": {
          "base_uri": "https://localhost:8080/",
          "height": 318
        },
        "id": "MMu_9Uh6eqRx",
        "outputId": "fbb24545-a738-4a5a-8d02-7a3197245569"
      },
      "outputs": [
        {
          "name": "stdout",
          "output_type": "stream",
          "text": [
            " * sqlite:///love4pets.db\n",
            "Done.\n"
          ]
        },
        {
          "data": {
            "text/html": [
              "<table>\n",
              "    <thead>\n",
              "        <tr>\n",
              "            <th>nombre</th>\n",
              "            <th>salario</th>\n",
              "        </tr>\n",
              "    </thead>\n",
              "    <tbody>\n",
              "        <tr>\n",
              "            <td>Miguel Soto</td>\n",
              "            <td>1900</td>\n",
              "        </tr>\n",
              "        <tr>\n",
              "            <td>Alejandro Fernandez</td>\n",
              "            <td>1850</td>\n",
              "        </tr>\n",
              "        <tr>\n",
              "            <td>Isaac Jimenez Ortiz</td>\n",
              "            <td>1600</td>\n",
              "        </tr>\n",
              "        <tr>\n",
              "            <td>Saul Moreno Santos</td>\n",
              "            <td>1600</td>\n",
              "        </tr>\n",
              "        <tr>\n",
              "            <td>Andres Riera Herrera</td>\n",
              "            <td>1500</td>\n",
              "        </tr>\n",
              "        <tr>\n",
              "            <td>Daniel Quintero Quintero</td>\n",
              "            <td>1500</td>\n",
              "        </tr>\n",
              "        <tr>\n",
              "            <td>Juan Manuel Olivares</td>\n",
              "            <td>1500</td>\n",
              "        </tr>\n",
              "        <tr>\n",
              "            <td>Guillermo Vidal Gomez</td>\n",
              "            <td>1400</td>\n",
              "        </tr>\n",
              "        <tr>\n",
              "            <td>Pablo Pons Sanz</td>\n",
              "            <td>1350</td>\n",
              "        </tr>\n",
              "        <tr>\n",
              "            <td>Lucas Serrano Caballero</td>\n",
              "            <td>1200</td>\n",
              "        </tr>\n",
              "        <tr>\n",
              "            <td>Nil Soler Diez</td>\n",
              "            <td>1100</td>\n",
              "        </tr>\n",
              "        <tr>\n",
              "            <td>Sergio Reyes Gallardo</td>\n",
              "            <td>1000</td>\n",
              "        </tr>\n",
              "    </tbody>\n",
              "</table>"
            ],
            "text/plain": [
              "[('Miguel Soto', 1900),\n",
              " ('Alejandro Fernandez', 1850),\n",
              " ('Isaac Jimenez Ortiz', 1600),\n",
              " ('Saul Moreno Santos', 1600),\n",
              " ('Andres Riera Herrera', 1500),\n",
              " ('Daniel Quintero Quintero', 1500),\n",
              " ('Juan Manuel Olivares', 1500),\n",
              " ('Guillermo Vidal Gomez', 1400),\n",
              " ('Pablo Pons Sanz', 1350),\n",
              " ('Lucas Serrano Caballero', 1200),\n",
              " ('Nil Soler Diez', 1100),\n",
              " ('Sergio Reyes Gallardo', 1000)]"
            ]
          },
          "execution_count": 13,
          "metadata": {},
          "output_type": "execute_result"
        }
      ],
      "source": [
        "%sql select nombre, salario FROM empleado ORDER BY salario DESC, nombre ASC;"
      ]
    },
    {
      "cell_type": "markdown",
      "metadata": {
        "id": "j4t-ho2OeqRy"
      },
      "source": [
        "La instrucción  **Limit** reduce la cantidad de filas de salida en el resultado al número indicado.\n",
        "Cuando usamos la instrucción LIMIT junto con el ORDER BY estamos tomando alguno de los extremos de la consulta, por ejemplo los 3 sueldos mas altos, o los 5 sueldos mas bajos.\n",
        "\n",
        "Veamos un par de ejemplos de esto:"
      ]
    },
    {
      "cell_type": "code",
      "execution_count": null,
      "metadata": {
        "colab": {
          "base_uri": "https://localhost:8080/",
          "height": 135
        },
        "id": "F1C_LrbFeqRy",
        "outputId": "9ccfeb1a-de56-4846-c2d9-d2cb1df4d5f0"
      },
      "outputs": [
        {
          "name": "stdout",
          "output_type": "stream",
          "text": [
            " * sqlite:///love4pets.db\n",
            "Done.\n"
          ]
        },
        {
          "data": {
            "text/html": [
              "<table>\n",
              "    <thead>\n",
              "        <tr>\n",
              "            <th>nombre</th>\n",
              "            <th>salario</th>\n",
              "        </tr>\n",
              "    </thead>\n",
              "    <tbody>\n",
              "        <tr>\n",
              "            <td>Miguel Soto</td>\n",
              "            <td>1900</td>\n",
              "        </tr>\n",
              "        <tr>\n",
              "            <td>Alejandro Fernandez</td>\n",
              "            <td>1850</td>\n",
              "        </tr>\n",
              "        <tr>\n",
              "            <td>Saul Moreno Santos</td>\n",
              "            <td>1600</td>\n",
              "        </tr>\n",
              "    </tbody>\n",
              "</table>"
            ],
            "text/plain": [
              "[('Miguel Soto', 1900),\n",
              " ('Alejandro Fernandez', 1850),\n",
              " ('Saul Moreno Santos', 1600)]"
            ]
          },
          "execution_count": 14,
          "metadata": {},
          "output_type": "execute_result"
        }
      ],
      "source": [
        "%sql select nombre,salario FROM empleado ORDER BY salario DESC LIMIT 3;"
      ]
    },
    {
      "cell_type": "code",
      "execution_count": null,
      "metadata": {
        "colab": {
          "base_uri": "https://localhost:8080/",
          "height": 175
        },
        "id": "K8a_IsZHeqRz",
        "outputId": "1e5bd1e4-d79b-483d-fc18-0e733ec77f0d"
      },
      "outputs": [
        {
          "name": "stdout",
          "output_type": "stream",
          "text": [
            " * sqlite:///love4pets.db\n",
            "Done.\n"
          ]
        },
        {
          "data": {
            "text/html": [
              "<table>\n",
              "    <thead>\n",
              "        <tr>\n",
              "            <th>nombre</th>\n",
              "            <th>salario</th>\n",
              "        </tr>\n",
              "    </thead>\n",
              "    <tbody>\n",
              "        <tr>\n",
              "            <td>Sergio Reyes Gallardo</td>\n",
              "            <td>1000</td>\n",
              "        </tr>\n",
              "        <tr>\n",
              "            <td>Nil Soler Diez</td>\n",
              "            <td>1100</td>\n",
              "        </tr>\n",
              "        <tr>\n",
              "            <td>Lucas Serrano Caballero</td>\n",
              "            <td>1200</td>\n",
              "        </tr>\n",
              "        <tr>\n",
              "            <td>Pablo Pons Sanz</td>\n",
              "            <td>1350</td>\n",
              "        </tr>\n",
              "        <tr>\n",
              "            <td>Guillermo Vidal Gomez</td>\n",
              "            <td>1400</td>\n",
              "        </tr>\n",
              "    </tbody>\n",
              "</table>"
            ],
            "text/plain": [
              "[('Sergio Reyes Gallardo', 1000),\n",
              " ('Nil Soler Diez', 1100),\n",
              " ('Lucas Serrano Caballero', 1200),\n",
              " ('Pablo Pons Sanz', 1350),\n",
              " ('Guillermo Vidal Gomez', 1400)]"
            ]
          },
          "execution_count": 15,
          "metadata": {},
          "output_type": "execute_result"
        }
      ],
      "source": [
        "%sql select nombre,salario FROM empleado ORDER BY salario ASC LIMIT 5;"
      ]
    },
    {
      "cell_type": "markdown",
      "metadata": {
        "id": "evCeve0HeqRz"
      },
      "source": [
        "### Filtro sobre operación de selección, DISTINCT\n",
        "------\n",
        "La Instrucción DISTINCT omite en el resultado los campos que son iguales.\n",
        "\n",
        "Veamos un ejemplos:"
      ]
    },
    {
      "cell_type": "code",
      "execution_count": null,
      "metadata": {
        "colab": {
          "base_uri": "https://localhost:8080/",
          "height": 257
        },
        "id": "-_geFj-leqRz",
        "outputId": "f74941c0-af8e-4940-e351-0be11a540caa"
      },
      "outputs": [
        {
          "name": "stdout",
          "output_type": "stream",
          "text": [
            " * sqlite:///love4pets.db\n",
            "Done.\n"
          ]
        },
        {
          "data": {
            "text/html": [
              "<table>\n",
              "    <thead>\n",
              "        <tr>\n",
              "            <th>salario</th>\n",
              "        </tr>\n",
              "    </thead>\n",
              "    <tbody>\n",
              "        <tr>\n",
              "            <td>1900</td>\n",
              "        </tr>\n",
              "        <tr>\n",
              "            <td>1850</td>\n",
              "        </tr>\n",
              "        <tr>\n",
              "            <td>1600</td>\n",
              "        </tr>\n",
              "        <tr>\n",
              "            <td>1500</td>\n",
              "        </tr>\n",
              "        <tr>\n",
              "            <td>1400</td>\n",
              "        </tr>\n",
              "        <tr>\n",
              "            <td>1350</td>\n",
              "        </tr>\n",
              "        <tr>\n",
              "            <td>1200</td>\n",
              "        </tr>\n",
              "        <tr>\n",
              "            <td>1100</td>\n",
              "        </tr>\n",
              "        <tr>\n",
              "            <td>1000</td>\n",
              "        </tr>\n",
              "    </tbody>\n",
              "</table>"
            ],
            "text/plain": [
              "[(1900,),\n",
              " (1850,),\n",
              " (1600,),\n",
              " (1500,),\n",
              " (1400,),\n",
              " (1350,),\n",
              " (1200,),\n",
              " (1100,),\n",
              " (1000,)]"
            ]
          },
          "execution_count": 16,
          "metadata": {},
          "output_type": "execute_result"
        }
      ],
      "source": [
        "%sql select DISTINCT salario FROM empleado ORDER BY salario DESC;"
      ]
    },
    {
      "cell_type": "markdown",
      "metadata": {
        "id": "N-TlYxaheqR0"
      },
      "source": [
        "En el ejemplo anterior se muestran solamente los diferentes salarios, aún cuando 2 empleados tienen un sueldo de 1600 y otros 2 de 1500"
      ]
    },
    {
      "cell_type": "markdown",
      "metadata": {
        "id": "pTF9yceFeqR0"
      },
      "source": [
        "### La Clausula **WHERE**\n",
        "Se usa para indicar que se limita la selección a los campos que cumplan una determinada condición.\n",
        "\n",
        "```sql\n",
        "select campo1,campo2,...,campoN FROM Tabla WHERE condición;\n",
        "```\n",
        "\n",
        "#### Operadores usados en la clausula WHERE\n",
        "| Operador |  Descripción |\n",
        "|----------|--------------|\n",
        "| = |  igualdad |\n",
        "| <> |  Distinto uno de otro |\n",
        "| > |  Mayor que |\n",
        "| < |  Menor que |\n",
        "| =< |  Mayor o igual que |\n",
        "| <= |  Menor o igual que |\n",
        "| Between |  Entre un cierto rango |\n",
        "| LIKE |  Cumple una estructura dada |\n",
        "| IN |  Permite comparar con multiples valores |\n",
        "\n",
        "Veamos algunos ejemplos de la clausula WHERE:"
      ]
    },
    {
      "cell_type": "code",
      "execution_count": null,
      "metadata": {
        "colab": {
          "base_uri": "https://localhost:8080/",
          "height": 155
        },
        "id": "obIuN8SkeqR0",
        "outputId": "8ace28b0-64be-4615-9d16-d88b4b19765d"
      },
      "outputs": [
        {
          "name": "stdout",
          "output_type": "stream",
          "text": [
            " * sqlite:///love4pets.db\n",
            "Done.\n"
          ]
        },
        {
          "data": {
            "text/html": [
              "<table>\n",
              "    <thead>\n",
              "        <tr>\n",
              "            <th>nombre</th>\n",
              "            <th>salario</th>\n",
              "        </tr>\n",
              "    </thead>\n",
              "    <tbody>\n",
              "        <tr>\n",
              "            <td>Saul Moreno Santos</td>\n",
              "            <td>1600</td>\n",
              "        </tr>\n",
              "        <tr>\n",
              "            <td>Isaac Jimenez Ortiz</td>\n",
              "            <td>1600</td>\n",
              "        </tr>\n",
              "        <tr>\n",
              "            <td>Miguel Soto</td>\n",
              "            <td>1900</td>\n",
              "        </tr>\n",
              "        <tr>\n",
              "            <td>Alejandro Fernandez</td>\n",
              "            <td>1850</td>\n",
              "        </tr>\n",
              "    </tbody>\n",
              "</table>"
            ],
            "text/plain": [
              "[('Saul Moreno Santos', 1600),\n",
              " ('Isaac Jimenez Ortiz', 1600),\n",
              " ('Miguel Soto', 1900),\n",
              " ('Alejandro Fernandez', 1850)]"
            ]
          },
          "execution_count": 17,
          "metadata": {},
          "output_type": "execute_result"
        }
      ],
      "source": [
        "%sql select nombre, salario FROM empleado WHERE salario > 1500;"
      ]
    },
    {
      "cell_type": "code",
      "execution_count": null,
      "metadata": {
        "colab": {
          "base_uri": "https://localhost:8080/",
          "height": 94
        },
        "id": "zjwznr6neqR1",
        "outputId": "1bdf2126-3d59-4b40-cfab-f46ccdb9fd4a"
      },
      "outputs": [
        {
          "name": "stdout",
          "output_type": "stream",
          "text": [
            " * sqlite:///love4pets.db\n",
            "Done.\n"
          ]
        },
        {
          "data": {
            "text/html": [
              "<table>\n",
              "    <thead>\n",
              "        <tr>\n",
              "            <th>nombre</th>\n",
              "            <th>salario</th>\n",
              "        </tr>\n",
              "    </thead>\n",
              "    <tbody>\n",
              "        <tr>\n",
              "            <td>Pablo Pons Sanz</td>\n",
              "            <td>1350</td>\n",
              "        </tr>\n",
              "    </tbody>\n",
              "</table>"
            ],
            "text/plain": [
              "[('Pablo Pons Sanz', 1350)]"
            ]
          },
          "execution_count": 18,
          "metadata": {},
          "output_type": "execute_result"
        }
      ],
      "source": [
        "%sql select nombre, salario FROM empleado WHERE salario = 1350;"
      ]
    },
    {
      "cell_type": "code",
      "execution_count": null,
      "metadata": {
        "colab": {
          "base_uri": "https://localhost:8080/",
          "height": 196
        },
        "id": "VgPHbRiJeqR1",
        "outputId": "78b33479-3fe6-4b19-d215-c689ec0a0fcc"
      },
      "outputs": [
        {
          "name": "stdout",
          "output_type": "stream",
          "text": [
            " * sqlite:///love4pets.db\n",
            "Done.\n"
          ]
        },
        {
          "data": {
            "text/html": [
              "<table>\n",
              "    <thead>\n",
              "        <tr>\n",
              "            <th>nombre</th>\n",
              "            <th>salario</th>\n",
              "        </tr>\n",
              "    </thead>\n",
              "    <tbody>\n",
              "        <tr>\n",
              "            <td>Andres Riera Herrera</td>\n",
              "            <td>1500</td>\n",
              "        </tr>\n",
              "        <tr>\n",
              "            <td>Saul Moreno Santos</td>\n",
              "            <td>1600</td>\n",
              "        </tr>\n",
              "        <tr>\n",
              "            <td>Isaac Jimenez Ortiz</td>\n",
              "            <td>1600</td>\n",
              "        </tr>\n",
              "        <tr>\n",
              "            <td>Guillermo Vidal Gomez</td>\n",
              "            <td>1400</td>\n",
              "        </tr>\n",
              "        <tr>\n",
              "            <td>Daniel Quintero Quintero</td>\n",
              "            <td>1500</td>\n",
              "        </tr>\n",
              "        <tr>\n",
              "            <td>Juan Manuel Olivares</td>\n",
              "            <td>1500</td>\n",
              "        </tr>\n",
              "    </tbody>\n",
              "</table>"
            ],
            "text/plain": [
              "[('Andres Riera Herrera', 1500),\n",
              " ('Saul Moreno Santos', 1600),\n",
              " ('Isaac Jimenez Ortiz', 1600),\n",
              " ('Guillermo Vidal Gomez', 1400),\n",
              " ('Daniel Quintero Quintero', 1500),\n",
              " ('Juan Manuel Olivares', 1500)]"
            ]
          },
          "execution_count": 19,
          "metadata": {},
          "output_type": "execute_result"
        }
      ],
      "source": [
        "%sql select nombre, salario FROM empleado WHERE ( salario >= 1400 AND salario <= 1600 );"
      ]
    },
    {
      "cell_type": "markdown",
      "metadata": {
        "id": "LDmz-VhHeqR2"
      },
      "source": [
        "### **Ejercicio 2**\n",
        "----\n",
        "Con el propósito actualizar la información de los clientes se quiere contactar a aquellos clientes que no tienen asociada una persona de contacto, para esto se pide que muestre de la tabla \"cliente\" los campos \"nombre\" y \"telefono\" de los clientes que no tienen un contacto registrado."
      ]
    },
    {
      "cell_type": "code",
      "execution_count": 72,
      "metadata": {
        "colab": {
          "base_uri": "https://localhost:8080/",
          "height": 157
        },
        "id": "kxo6zMRkeqR3",
        "outputId": "91b941b4-f5a8-4641-8318-874b5d95d094"
      },
      "outputs": [
        {
          "output_type": "stream",
          "name": "stdout",
          "text": [
            " * sqlite:////content/love4pets.db\n",
            "   sqlite:///love4pets.db\n",
            "Done.\n"
          ]
        },
        {
          "output_type": "execute_result",
          "data": {
            "text/plain": [
              "[('Arnau Medina Garcia', '094-10-88'),\n",
              " ('Jan Vargas Santana', '780-65-24'),\n",
              " ('Pol Moya Pena', '780-25-24')]"
            ],
            "text/html": [
              "<table>\n",
              "    <thead>\n",
              "        <tr>\n",
              "            <th>nombre</th>\n",
              "            <th>telefono</th>\n",
              "        </tr>\n",
              "    </thead>\n",
              "    <tbody>\n",
              "        <tr>\n",
              "            <td>Arnau Medina Garcia</td>\n",
              "            <td>094-10-88</td>\n",
              "        </tr>\n",
              "        <tr>\n",
              "            <td>Jan Vargas Santana</td>\n",
              "            <td>780-65-24</td>\n",
              "        </tr>\n",
              "        <tr>\n",
              "            <td>Pol Moya Pena</td>\n",
              "            <td>780-25-24</td>\n",
              "        </tr>\n",
              "    </tbody>\n",
              "</table>"
            ]
          },
          "metadata": {},
          "execution_count": 72
        }
      ],
      "source": [
        "%sql select nombre, telefono from cliente where contacto = '';"
      ]
    },
    {
      "cell_type": "code",
      "source": [],
      "metadata": {
        "id": "Nku91oeJnWEu"
      },
      "execution_count": null,
      "outputs": []
    },
    {
      "cell_type": "markdown",
      "metadata": {
        "id": "aHbuuwlteqR3"
      },
      "source": [
        "### EL operador BETWEEN\n",
        "Esta última instrucción puede escribirse de otra forma usando el operador **BETWEEN**, este operador es usado cuando queremos indicar que deseamos recuperar los registros según un intervalo de valores dado sobre un campo."
      ]
    },
    {
      "cell_type": "code",
      "execution_count": null,
      "metadata": {
        "colab": {
          "base_uri": "https://localhost:8080/",
          "height": 196
        },
        "id": "3sEoDz07eqR3",
        "outputId": "0c6b29a0-74e8-48da-b0fd-8a2e6caa0ccf"
      },
      "outputs": [
        {
          "name": "stdout",
          "output_type": "stream",
          "text": [
            " * sqlite:///love4pets.db\n",
            "Done.\n"
          ]
        },
        {
          "data": {
            "text/html": [
              "<table>\n",
              "    <thead>\n",
              "        <tr>\n",
              "            <th>nombre</th>\n",
              "            <th>salario</th>\n",
              "        </tr>\n",
              "    </thead>\n",
              "    <tbody>\n",
              "        <tr>\n",
              "            <td>Andres Riera Herrera</td>\n",
              "            <td>1500</td>\n",
              "        </tr>\n",
              "        <tr>\n",
              "            <td>Saul Moreno Santos</td>\n",
              "            <td>1600</td>\n",
              "        </tr>\n",
              "        <tr>\n",
              "            <td>Isaac Jimenez Ortiz</td>\n",
              "            <td>1600</td>\n",
              "        </tr>\n",
              "        <tr>\n",
              "            <td>Guillermo Vidal Gomez</td>\n",
              "            <td>1400</td>\n",
              "        </tr>\n",
              "        <tr>\n",
              "            <td>Daniel Quintero Quintero</td>\n",
              "            <td>1500</td>\n",
              "        </tr>\n",
              "        <tr>\n",
              "            <td>Juan Manuel Olivares</td>\n",
              "            <td>1500</td>\n",
              "        </tr>\n",
              "    </tbody>\n",
              "</table>"
            ],
            "text/plain": [
              "[('Andres Riera Herrera', 1500),\n",
              " ('Saul Moreno Santos', 1600),\n",
              " ('Isaac Jimenez Ortiz', 1600),\n",
              " ('Guillermo Vidal Gomez', 1400),\n",
              " ('Daniel Quintero Quintero', 1500),\n",
              " ('Juan Manuel Olivares', 1500)]"
            ]
          },
          "execution_count": 21,
          "metadata": {},
          "output_type": "execute_result"
        }
      ],
      "source": [
        "%sql select nombre, salario FROM empleado WHERE salario Between 1400 AND 1600"
      ]
    },
    {
      "cell_type": "markdown",
      "metadata": {
        "id": "L2LAr5XAeqR4"
      },
      "source": [
        "### EL operador LIKE\n",
        "Este operador es usado cuando se filtra la consulta con algún modelo o patrón sobre una columna.\n",
        "Este operador se combina con simbolos \"%\" y \"_\":\n",
        "* % Representa cero o mas caracteres a ser reemplazados en el patron por otros.\n",
        "* _ Representa un único caracter.\n",
        "\n",
        "Veamos algúnos ejemplos:"
      ]
    },
    {
      "cell_type": "code",
      "execution_count": null,
      "metadata": {
        "colab": {
          "base_uri": "https://localhost:8080/",
          "height": 135
        },
        "id": "hXjcP0treqR4",
        "outputId": "ed45b5b7-b6ad-418c-f16d-27bdc5413e0a"
      },
      "outputs": [
        {
          "name": "stdout",
          "output_type": "stream",
          "text": [
            " * sqlite:///love4pets.db\n",
            "Done.\n"
          ]
        },
        {
          "data": {
            "text/html": [
              "<table>\n",
              "    <thead>\n",
              "        <tr>\n",
              "            <th>cliente_id</th>\n",
              "            <th>nombre</th>\n",
              "            <th>email</th>\n",
              "            <th>telefono</th>\n",
              "            <th>contacto</th>\n",
              "            <th>telefono_contacto</th>\n",
              "            <th>ciudad</th>\n",
              "        </tr>\n",
              "    </thead>\n",
              "    <tbody>\n",
              "        <tr>\n",
              "            <td>2</td>\n",
              "            <td>Arnau Medina Garcia</td>\n",
              "            <td>arnaumedina@gmail.com</td>\n",
              "            <td>094-10-88</td>\n",
              "            <td></td>\n",
              "            <td></td>\n",
              "            <td>Madrid</td>\n",
              "        </tr>\n",
              "        <tr>\n",
              "            <td>3</td>\n",
              "            <td>Ivan Medina Rubio</td>\n",
              "            <td>ivanmedina@gmail.com</td>\n",
              "            <td>083-08-72</td>\n",
              "            <td>Javier Domenech</td>\n",
              "            <td>488-48-46</td>\n",
              "            <td>Toledo</td>\n",
              "        </tr>\n",
              "        <tr>\n",
              "            <td>12</td>\n",
              "            <td>Jesus Medina Hernandez</td>\n",
              "            <td>jmedinah@gmail.com</td>\n",
              "            <td>782-35-25</td>\n",
              "            <td>Vctor Gonzalez Castillo</td>\n",
              "            <td>661-85-12</td>\n",
              "            <td>Madrid</td>\n",
              "        </tr>\n",
              "    </tbody>\n",
              "</table>"
            ],
            "text/plain": [
              "[(2, 'Arnau Medina Garcia', 'arnaumedina@gmail.com', '094-10-88', '', '', 'Madrid'),\n",
              " (3, 'Ivan Medina Rubio', 'ivanmedina@gmail.com', '083-08-72', 'Javier Domenech', '488-48-46', 'Toledo'),\n",
              " (12, 'Jesus Medina Hernandez', 'jmedinah@gmail.com', '782-35-25', 'Vctor Gonzalez Castillo', '661-85-12', 'Madrid')]"
            ]
          },
          "execution_count": 22,
          "metadata": {},
          "output_type": "execute_result"
        }
      ],
      "source": [
        "%sql select * FROM cliente WHERE nombre LIKE \"%Medina%\";"
      ]
    },
    {
      "cell_type": "markdown",
      "metadata": {
        "id": "OqNAkj37eqR4"
      },
      "source": [
        "La instrucción anterior busca todos los clientes cuyo nombre contiene la secuencia de caracteres \"Medina\" en alguna posición."
      ]
    },
    {
      "cell_type": "code",
      "execution_count": null,
      "metadata": {
        "colab": {
          "base_uri": "https://localhost:8080/",
          "height": 380
        },
        "id": "QH5AG83seqR5",
        "outputId": "fcbcc070-23aa-4dc7-8e40-265156b13c5f"
      },
      "outputs": [
        {
          "name": "stdout",
          "output_type": "stream",
          "text": [
            " * sqlite:///love4pets.db\n",
            "Done.\n"
          ]
        },
        {
          "data": {
            "text/html": [
              "<table>\n",
              "    <thead>\n",
              "        <tr>\n",
              "            <th>cliente_id</th>\n",
              "            <th>nombre</th>\n",
              "            <th>email</th>\n",
              "            <th>telefono</th>\n",
              "            <th>contacto</th>\n",
              "            <th>telefono_contacto</th>\n",
              "            <th>ciudad</th>\n",
              "        </tr>\n",
              "    </thead>\n",
              "    <tbody>\n",
              "        <tr>\n",
              "            <td>1</td>\n",
              "            <td>Mario Flores Gallardo</td>\n",
              "            <td>marioflores@gmail.com</td>\n",
              "            <td>036-15-36</td>\n",
              "            <td>Aintzane Alvarez Iglesias</td>\n",
              "            <td>210-35-57</td>\n",
              "            <td>Madrid</td>\n",
              "        </tr>\n",
              "        <tr>\n",
              "            <td>2</td>\n",
              "            <td>Arnau Medina Garcia</td>\n",
              "            <td>arnaumedina@gmail.com</td>\n",
              "            <td>094-10-88</td>\n",
              "            <td></td>\n",
              "            <td></td>\n",
              "            <td>Madrid</td>\n",
              "        </tr>\n",
              "        <tr>\n",
              "            <td>3</td>\n",
              "            <td>Ivan Medina Rubio</td>\n",
              "            <td>ivanmedina@gmail.com</td>\n",
              "            <td>083-08-72</td>\n",
              "            <td>Javier Domenech</td>\n",
              "            <td>488-48-46</td>\n",
              "            <td>Toledo</td>\n",
              "        </tr>\n",
              "        <tr>\n",
              "            <td>4</td>\n",
              "            <td>Jan Vargas Santana</td>\n",
              "            <td>vargasjan@gmail.com</td>\n",
              "            <td>780-65-24</td>\n",
              "            <td></td>\n",
              "            <td></td>\n",
              "            <td>Madrid</td>\n",
              "        </tr>\n",
              "        <tr>\n",
              "            <td>5</td>\n",
              "            <td>Carlos Costa Guerrero</td>\n",
              "            <td>carloscostag@gmail.com</td>\n",
              "            <td>180-65-24</td>\n",
              "            <td>Cristian Jimenez</td>\n",
              "            <td>801-28-09</td>\n",
              "            <td>Madrid</td>\n",
              "        </tr>\n",
              "        <tr>\n",
              "            <td>6</td>\n",
              "            <td>Roberto Martin Ortega</td>\n",
              "            <td>robertmartin@gmail.com</td>\n",
              "            <td>742-63-27</td>\n",
              "            <td>Jorge Vila Gallardo</td>\n",
              "            <td>564-52-13</td>\n",
              "            <td>Madrid</td>\n",
              "        </tr>\n",
              "        <tr>\n",
              "            <td>7</td>\n",
              "            <td>Gabriel Gonzalez Ortega</td>\n",
              "            <td>gabogonzo@gmail.com</td>\n",
              "            <td>780-13-14</td>\n",
              "            <td>Miguel Bosch Parra</td>\n",
              "            <td>882-17-20</td>\n",
              "            <td>Madrid</td>\n",
              "        </tr>\n",
              "        <tr>\n",
              "            <td>8</td>\n",
              "            <td>Rayan Leon Ferrer</td>\n",
              "            <td>rayito@gmail.com</td>\n",
              "            <td>430-65-24</td>\n",
              "            <td>Santiago Perez Ramos</td>\n",
              "            <td>577-21-24</td>\n",
              "            <td>Madrid</td>\n",
              "        </tr>\n",
              "        <tr>\n",
              "            <td>9</td>\n",
              "            <td>Aitor Ruiz Sanchez</td>\n",
              "            <td>aitorsanchez@gmail.com</td>\n",
              "            <td>780-77-24</td>\n",
              "            <td>Gabriel Gonzalez Ortega</td>\n",
              "            <td>784-96-31</td>\n",
              "            <td>Madrid</td>\n",
              "        </tr>\n",
              "        <tr>\n",
              "            <td>10</td>\n",
              "            <td>Eric Rubio Carrasco</td>\n",
              "            <td>ericrubio@gmail.com</td>\n",
              "            <td>780-65-79</td>\n",
              "            <td>Cristian Jimenez Martinez</td>\n",
              "            <td>147-01-12</td>\n",
              "            <td>Madrid</td>\n",
              "        </tr>\n",
              "        <tr>\n",
              "            <td>11</td>\n",
              "            <td>Alberto Sanz Ruiz</td>\n",
              "            <td>albert@gmail.com</td>\n",
              "            <td>781-15-24</td>\n",
              "            <td>Gabriel Gonzalez Ortega</td>\n",
              "            <td>028-51-21</td>\n",
              "            <td>Madrid</td>\n",
              "        </tr>\n",
              "        <tr>\n",
              "            <td>12</td>\n",
              "            <td>Jesus Medina Hernandez</td>\n",
              "            <td>jmedinah@gmail.com</td>\n",
              "            <td>782-35-25</td>\n",
              "            <td>Vctor Gonzalez Castillo</td>\n",
              "            <td>661-85-12</td>\n",
              "            <td>Madrid</td>\n",
              "        </tr>\n",
              "        <tr>\n",
              "            <td>13</td>\n",
              "            <td>Pol Moya Pena</td>\n",
              "            <td>polmoya@gmail.com</td>\n",
              "            <td>780-25-24</td>\n",
              "            <td></td>\n",
              "            <td></td>\n",
              "            <td>Toledo</td>\n",
              "        </tr>\n",
              "        <tr>\n",
              "            <td>14</td>\n",
              "            <td>Jose Gallardo Rodriguez</td>\n",
              "            <td>josegallardo@gmail.com</td>\n",
              "            <td>783-65-11</td>\n",
              "            <td>Hector Martin Morales</td>\n",
              "            <td>867-97-99</td>\n",
              "            <td>Madrid</td>\n",
              "        </tr>\n",
              "        <tr>\n",
              "            <td>15</td>\n",
              "            <td>Manuel Angel Gil</td>\n",
              "            <td>manano@gmail.com</td>\n",
              "            <td>733-65-16</td>\n",
              "            <td>Hector Navarro</td>\n",
              "            <td>067-97-91</td>\n",
              "            <td>Madrid</td>\n",
              "        </tr>\n",
              "    </tbody>\n",
              "</table>"
            ],
            "text/plain": [
              "[(1, 'Mario Flores Gallardo', 'marioflores@gmail.com', '036-15-36', 'Aintzane Alvarez Iglesias', '210-35-57', 'Madrid'),\n",
              " (2, 'Arnau Medina Garcia', 'arnaumedina@gmail.com', '094-10-88', '', '', 'Madrid'),\n",
              " (3, 'Ivan Medina Rubio', 'ivanmedina@gmail.com', '083-08-72', 'Javier Domenech', '488-48-46', 'Toledo'),\n",
              " (4, 'Jan Vargas Santana', 'vargasjan@gmail.com', '780-65-24', '', '', 'Madrid'),\n",
              " (5, 'Carlos Costa Guerrero', 'carloscostag@gmail.com', '180-65-24', 'Cristian Jimenez', '801-28-09', 'Madrid'),\n",
              " (6, 'Roberto Martin Ortega', 'robertmartin@gmail.com', '742-63-27', 'Jorge Vila Gallardo', '564-52-13', 'Madrid'),\n",
              " (7, 'Gabriel Gonzalez Ortega', 'gabogonzo@gmail.com', '780-13-14', 'Miguel Bosch Parra', '882-17-20', 'Madrid'),\n",
              " (8, 'Rayan Leon Ferrer', 'rayito@gmail.com', '430-65-24', 'Santiago Perez Ramos', '577-21-24', 'Madrid'),\n",
              " (9, 'Aitor Ruiz Sanchez', 'aitorsanchez@gmail.com', '780-77-24', 'Gabriel Gonzalez Ortega', '784-96-31', 'Madrid'),\n",
              " (10, 'Eric Rubio Carrasco', 'ericrubio@gmail.com', '780-65-79', 'Cristian Jimenez Martinez', '147-01-12', 'Madrid'),\n",
              " (11, 'Alberto Sanz Ruiz', 'albert@gmail.com', '781-15-24', 'Gabriel Gonzalez Ortega', '028-51-21', 'Madrid'),\n",
              " (12, 'Jesus Medina Hernandez', 'jmedinah@gmail.com', '782-35-25', 'Vctor Gonzalez Castillo', '661-85-12', 'Madrid'),\n",
              " (13, 'Pol Moya Pena', 'polmoya@gmail.com', '780-25-24', '', '', 'Toledo'),\n",
              " (14, 'Jose Gallardo Rodriguez', 'josegallardo@gmail.com', '783-65-11', 'Hector Martin Morales', '867-97-99', 'Madrid'),\n",
              " (15, 'Manuel Angel Gil', 'manano@gmail.com', '733-65-16', 'Hector Navarro', '067-97-91', 'Madrid')]"
            ]
          },
          "execution_count": 23,
          "metadata": {},
          "output_type": "execute_result"
        }
      ],
      "source": [
        "%sql select * FROM cliente WHERE email LIKE \"%@gmail.com\";"
      ]
    },
    {
      "cell_type": "markdown",
      "metadata": {
        "id": "9fJhQH1VeqR5"
      },
      "source": [
        "EL comando anterior busca los clientes que tienen un correo que termine en \"@gmail.com\".\n",
        "\n",
        "**Veamos a consultar todos los clientes cuyo número telefónico comience por \"780\"**"
      ]
    },
    {
      "cell_type": "code",
      "execution_count": null,
      "metadata": {
        "colab": {
          "base_uri": "https://localhost:8080/",
          "height": 175
        },
        "id": "wJ8OM5E4eqR5",
        "outputId": "475b58e4-ea57-4d1d-8e89-4060f8fcffd4"
      },
      "outputs": [
        {
          "name": "stdout",
          "output_type": "stream",
          "text": [
            " * sqlite:///love4pets.db\n",
            "Done.\n"
          ]
        },
        {
          "data": {
            "text/html": [
              "<table>\n",
              "    <thead>\n",
              "        <tr>\n",
              "            <th>cliente_id</th>\n",
              "            <th>nombre</th>\n",
              "            <th>email</th>\n",
              "            <th>telefono</th>\n",
              "            <th>contacto</th>\n",
              "            <th>telefono_contacto</th>\n",
              "            <th>ciudad</th>\n",
              "        </tr>\n",
              "    </thead>\n",
              "    <tbody>\n",
              "        <tr>\n",
              "            <td>4</td>\n",
              "            <td>Jan Vargas Santana</td>\n",
              "            <td>vargasjan@gmail.com</td>\n",
              "            <td>780-65-24</td>\n",
              "            <td></td>\n",
              "            <td></td>\n",
              "            <td>Madrid</td>\n",
              "        </tr>\n",
              "        <tr>\n",
              "            <td>7</td>\n",
              "            <td>Gabriel Gonzalez Ortega</td>\n",
              "            <td>gabogonzo@gmail.com</td>\n",
              "            <td>780-13-14</td>\n",
              "            <td>Miguel Bosch Parra</td>\n",
              "            <td>882-17-20</td>\n",
              "            <td>Madrid</td>\n",
              "        </tr>\n",
              "        <tr>\n",
              "            <td>9</td>\n",
              "            <td>Aitor Ruiz Sanchez</td>\n",
              "            <td>aitorsanchez@gmail.com</td>\n",
              "            <td>780-77-24</td>\n",
              "            <td>Gabriel Gonzalez Ortega</td>\n",
              "            <td>784-96-31</td>\n",
              "            <td>Madrid</td>\n",
              "        </tr>\n",
              "        <tr>\n",
              "            <td>10</td>\n",
              "            <td>Eric Rubio Carrasco</td>\n",
              "            <td>ericrubio@gmail.com</td>\n",
              "            <td>780-65-79</td>\n",
              "            <td>Cristian Jimenez Martinez</td>\n",
              "            <td>147-01-12</td>\n",
              "            <td>Madrid</td>\n",
              "        </tr>\n",
              "        <tr>\n",
              "            <td>13</td>\n",
              "            <td>Pol Moya Pena</td>\n",
              "            <td>polmoya@gmail.com</td>\n",
              "            <td>780-25-24</td>\n",
              "            <td></td>\n",
              "            <td></td>\n",
              "            <td>Toledo</td>\n",
              "        </tr>\n",
              "    </tbody>\n",
              "</table>"
            ],
            "text/plain": [
              "[(4, 'Jan Vargas Santana', 'vargasjan@gmail.com', '780-65-24', '', '', 'Madrid'),\n",
              " (7, 'Gabriel Gonzalez Ortega', 'gabogonzo@gmail.com', '780-13-14', 'Miguel Bosch Parra', '882-17-20', 'Madrid'),\n",
              " (9, 'Aitor Ruiz Sanchez', 'aitorsanchez@gmail.com', '780-77-24', 'Gabriel Gonzalez Ortega', '784-96-31', 'Madrid'),\n",
              " (10, 'Eric Rubio Carrasco', 'ericrubio@gmail.com', '780-65-79', 'Cristian Jimenez Martinez', '147-01-12', 'Madrid'),\n",
              " (13, 'Pol Moya Pena', 'polmoya@gmail.com', '780-25-24', '', '', 'Toledo')]"
            ]
          },
          "execution_count": 24,
          "metadata": {},
          "output_type": "execute_result"
        }
      ],
      "source": [
        "%sql select * FROM cliente WHERE telefono LIKE \"780-%\";"
      ]
    },
    {
      "cell_type": "markdown",
      "metadata": {
        "id": "SjcD42-SeqR5"
      },
      "source": [
        "### **Ejercicio 3**\n",
        "--------\n",
        "Un empleado de la empresa Love4Pets se dió cuenta que un cliente dejó por accidente su celular, el empleado recuerda que alguno de sus apellidos era \"Leon\".\n",
        "\n",
        "Se quiere que determinar a quien pertenece el celular extraviado, y en caso de ser posible avisar a su persona de contacto que el celular está a salvo y pueden pasar buscandolo en cualquier momento.\n",
        "   \n",
        "Se sabe que la tabla **\"cliente\"** tiene un campo **\"nombre\"** el cual contiene nombres y apellidos, el campo **\"contacto\"** que tiene el nombre de la persona de contacto y el campo **\"telefono_contacto\"** que tiene el telefono de la persona de contacto."
      ]
    },
    {
      "cell_type": "code",
      "execution_count": 44,
      "metadata": {
        "colab": {
          "base_uri": "https://localhost:8080/",
          "height": 114
        },
        "id": "4fZJkE3GeqR6",
        "outputId": "993e97fd-546e-4b3a-93bb-636ab41c0754"
      },
      "outputs": [
        {
          "output_type": "stream",
          "name": "stdout",
          "text": [
            " * sqlite:////content/love4pets.db\n",
            "   sqlite:///love4pets.db\n",
            "Done.\n"
          ]
        },
        {
          "output_type": "execute_result",
          "data": {
            "text/plain": [
              "[('Rayan Leon Ferrer', 'Santiago Perez Ramos', '577-21-24')]"
            ],
            "text/html": [
              "<table>\n",
              "    <thead>\n",
              "        <tr>\n",
              "            <th>nombre</th>\n",
              "            <th>contacto</th>\n",
              "            <th>telefono_contacto</th>\n",
              "        </tr>\n",
              "    </thead>\n",
              "    <tbody>\n",
              "        <tr>\n",
              "            <td>Rayan Leon Ferrer</td>\n",
              "            <td>Santiago Perez Ramos</td>\n",
              "            <td>577-21-24</td>\n",
              "        </tr>\n",
              "    </tbody>\n",
              "</table>"
            ]
          },
          "metadata": {},
          "execution_count": 44
        }
      ],
      "source": [
        "%sql select nombre, contacto, telefono_contacto from cliente where nombre like '%leon%';"
      ]
    },
    {
      "cell_type": "markdown",
      "metadata": {
        "id": "nW2vSWwoeqR6"
      },
      "source": [
        "### Operadores AND, OR, NOT\n",
        "Estos operadores son usados para filtrar resultados según mas de una condición.\n",
        "\n",
        "**Operador AND:** Se muestran los resultados que cumplen las condiciones separadas por el operador AND, es decir el resultado de la operación AND tiene valor TRUE\n",
        "\n",
        "Sintaxis del Operador AND\n",
        "```sql\n",
        "select campo FROM Tabla WHERE condicion1 AND condicion2;\n",
        "```\n",
        "\n",
        "**Operador OR:** Se muestran los resultados que cumplen alguna de las condiciones separadas por el operador OR, es decir el resultado de la operación OR tiene valor TRUE\n",
        "\n",
        "Sintaxis del Operador OR\n",
        "```sql\n",
        "select campo FROM Tabla WHERE condicion1 OR condicion2;\n",
        "```\n",
        "\n",
        "**Operador NOT:** Se muestran los resultados que NO cumplen con la condicion indicada.\n",
        "\n",
        "Sintaxis del Operador NOT\n",
        "```sql\n",
        "select campo FROM Tabla WHERE NOT condicion1;\n",
        "```\n"
      ]
    },
    {
      "cell_type": "code",
      "execution_count": null,
      "metadata": {
        "colab": {
          "base_uri": "https://localhost:8080/",
          "height": 155
        },
        "id": "OdLIxJlveqR6",
        "outputId": "1c30b5e8-ba90-49a9-e6b6-b41951222c36"
      },
      "outputs": [
        {
          "name": "stdout",
          "output_type": "stream",
          "text": [
            " * sqlite:///love4pets.db\n",
            "Done.\n"
          ]
        },
        {
          "data": {
            "text/html": [
              "<table>\n",
              "    <thead>\n",
              "        <tr>\n",
              "            <th>empleado_id</th>\n",
              "            <th>nombre</th>\n",
              "            <th>email</th>\n",
              "            <th>telefono</th>\n",
              "            <th>salario</th>\n",
              "            <th>fecha_ingreso</th>\n",
              "            <th>departamento_id</th>\n",
              "        </tr>\n",
              "    </thead>\n",
              "    <tbody>\n",
              "        <tr>\n",
              "            <td>1</td>\n",
              "            <td>Andres Riera Herrera</td>\n",
              "            <td>andresr@gmail.com</td>\n",
              "            <td>200-88-76</td>\n",
              "            <td>1500</td>\n",
              "            <td>2017-05-17 00:00:000</td>\n",
              "            <td>6</td>\n",
              "        </tr>\n",
              "        <tr>\n",
              "            <td>9</td>\n",
              "            <td>Daniel Quintero Quintero</td>\n",
              "            <td>danielquinterox2@gmail.com</td>\n",
              "            <td>261-97-06</td>\n",
              "            <td>1500</td>\n",
              "            <td>2017-03-05 00:00:000</td>\n",
              "            <td>6</td>\n",
              "        </tr>\n",
              "        <tr>\n",
              "            <td>11</td>\n",
              "            <td>Miguel Soto</td>\n",
              "            <td>misoto@gmail.com</td>\n",
              "            <td>269-92-06</td>\n",
              "            <td>1900</td>\n",
              "            <td>2017-03-05 00:00:000</td>\n",
              "            <td>6</td>\n",
              "        </tr>\n",
              "        <tr>\n",
              "            <td>12</td>\n",
              "            <td>Alejandro Fernandez</td>\n",
              "            <td>alefer@gmail.com</td>\n",
              "            <td>119-91-16</td>\n",
              "            <td>1850</td>\n",
              "            <td>2017-03-05 00:00:000</td>\n",
              "            <td>6</td>\n",
              "        </tr>\n",
              "    </tbody>\n",
              "</table>"
            ],
            "text/plain": [
              "[(1, 'Andres Riera Herrera', 'andresr@gmail.com', '200-88-76', 1500, '2017-05-17 00:00:000', 6),\n",
              " (9, 'Daniel Quintero Quintero', 'danielquinterox2@gmail.com', '261-97-06', 1500, '2017-03-05 00:00:000', 6),\n",
              " (11, 'Miguel Soto', 'misoto@gmail.com', '269-92-06', 1900, '2017-03-05 00:00:000', 6),\n",
              " (12, 'Alejandro Fernandez', 'alefer@gmail.com', '119-91-16', 1850, '2017-03-05 00:00:000', 6)]"
            ]
          },
          "execution_count": 26,
          "metadata": {},
          "output_type": "execute_result"
        }
      ],
      "source": [
        "%sql select * FROM empleado WHERE ( salario >= 1500 AND departamento_id = 6 )"
      ]
    },
    {
      "cell_type": "markdown",
      "metadata": {
        "id": "kWTomy9VeqR7"
      },
      "source": [
        "En el ejemplo anterior la consulta muestra los empleados que tienen un salario mayor o igual a 1500 y que trabajan en el departamento de informática el cual tiene código 6.\n",
        "\n",
        "Veamos como podemos usar **consultas anidadas** para buscar la misma consulta colocando el nombre del departamento en lugar del código."
      ]
    },
    {
      "cell_type": "code",
      "execution_count": null,
      "metadata": {
        "colab": {
          "base_uri": "https://localhost:8080/",
          "height": 155
        },
        "id": "ayhWMPC6eqR7",
        "outputId": "24e3c208-a738-438b-a120-1c86146a34f1"
      },
      "outputs": [
        {
          "name": "stdout",
          "output_type": "stream",
          "text": [
            " * sqlite:///love4pets.db\n",
            "Done.\n"
          ]
        },
        {
          "data": {
            "text/html": [
              "<table>\n",
              "    <thead>\n",
              "        <tr>\n",
              "            <th>empleado_id</th>\n",
              "            <th>nombre</th>\n",
              "            <th>email</th>\n",
              "            <th>telefono</th>\n",
              "            <th>salario</th>\n",
              "            <th>fecha_ingreso</th>\n",
              "            <th>departamento_id</th>\n",
              "        </tr>\n",
              "    </thead>\n",
              "    <tbody>\n",
              "        <tr>\n",
              "            <td>1</td>\n",
              "            <td>Andres Riera Herrera</td>\n",
              "            <td>andresr@gmail.com</td>\n",
              "            <td>200-88-76</td>\n",
              "            <td>1500</td>\n",
              "            <td>2017-05-17 00:00:000</td>\n",
              "            <td>6</td>\n",
              "        </tr>\n",
              "        <tr>\n",
              "            <td>9</td>\n",
              "            <td>Daniel Quintero Quintero</td>\n",
              "            <td>danielquinterox2@gmail.com</td>\n",
              "            <td>261-97-06</td>\n",
              "            <td>1500</td>\n",
              "            <td>2017-03-05 00:00:000</td>\n",
              "            <td>6</td>\n",
              "        </tr>\n",
              "        <tr>\n",
              "            <td>11</td>\n",
              "            <td>Miguel Soto</td>\n",
              "            <td>misoto@gmail.com</td>\n",
              "            <td>269-92-06</td>\n",
              "            <td>1900</td>\n",
              "            <td>2017-03-05 00:00:000</td>\n",
              "            <td>6</td>\n",
              "        </tr>\n",
              "        <tr>\n",
              "            <td>12</td>\n",
              "            <td>Alejandro Fernandez</td>\n",
              "            <td>alefer@gmail.com</td>\n",
              "            <td>119-91-16</td>\n",
              "            <td>1850</td>\n",
              "            <td>2017-03-05 00:00:000</td>\n",
              "            <td>6</td>\n",
              "        </tr>\n",
              "    </tbody>\n",
              "</table>"
            ],
            "text/plain": [
              "[(1, 'Andres Riera Herrera', 'andresr@gmail.com', '200-88-76', 1500, '2017-05-17 00:00:000', 6),\n",
              " (9, 'Daniel Quintero Quintero', 'danielquinterox2@gmail.com', '261-97-06', 1500, '2017-03-05 00:00:000', 6),\n",
              " (11, 'Miguel Soto', 'misoto@gmail.com', '269-92-06', 1900, '2017-03-05 00:00:000', 6),\n",
              " (12, 'Alejandro Fernandez', 'alefer@gmail.com', '119-91-16', 1850, '2017-03-05 00:00:000', 6)]"
            ]
          },
          "execution_count": 27,
          "metadata": {},
          "output_type": "execute_result"
        }
      ],
      "source": [
        "%%sql\n",
        "select * FROM empleado\n",
        "WHERE\n",
        "( salario >= 1500 AND departamento_id = (select departamento_id FROM departamento WHERE nombre=\"informatica\" ) )"
      ]
    },
    {
      "cell_type": "markdown",
      "metadata": {
        "id": "46K-qkHoeqR7"
      },
      "source": [
        "Veamos un ejemplo donde consultamos las mascotas asociadas a una persona con nombre \"Arnau Medina Garcia\""
      ]
    },
    {
      "cell_type": "code",
      "execution_count": null,
      "metadata": {
        "colab": {
          "base_uri": "https://localhost:8080/",
          "height": 94
        },
        "id": "4jxxzDYCeqR7",
        "outputId": "07a5b9ab-fffb-420b-9768-dedb5756aa4f"
      },
      "outputs": [
        {
          "name": "stdout",
          "output_type": "stream",
          "text": [
            " * sqlite:///love4pets.db\n",
            "Done.\n"
          ]
        },
        {
          "data": {
            "text/html": [
              "<table>\n",
              "    <thead>\n",
              "        <tr>\n",
              "            <th>mascota_id</th>\n",
              "            <th>nombre</th>\n",
              "            <th>cliente_id</th>\n",
              "            <th>especie</th>\n",
              "            <th>raza</th>\n",
              "            <th>fecha_nacimiento</th>\n",
              "        </tr>\n",
              "    </thead>\n",
              "    <tbody>\n",
              "        <tr>\n",
              "            <td>1</td>\n",
              "            <td>Luna</td>\n",
              "            <td>2</td>\n",
              "            <td>gato</td>\n",
              "            <td>mestizo</td>\n",
              "            <td>2009-01-01 00:00:000</td>\n",
              "        </tr>\n",
              "    </tbody>\n",
              "</table>"
            ],
            "text/plain": [
              "[(1, 'Luna', 2, 'gato', 'mestizo', '2009-01-01 00:00:000')]"
            ]
          },
          "execution_count": 28,
          "metadata": {},
          "output_type": "execute_result"
        }
      ],
      "source": [
        "%%sql\n",
        "select * FROM mascota WHERE  cliente_id=( select cliente_id FROM cliente WHERE nombre=\"Arnau Medina Garcia\" )"
      ]
    },
    {
      "cell_type": "markdown",
      "metadata": {
        "id": "idz-P03deqR8"
      },
      "source": [
        "Ejemplo con Operador **OR**"
      ]
    },
    {
      "cell_type": "code",
      "execution_count": null,
      "metadata": {
        "colab": {
          "base_uri": "https://localhost:8080/",
          "height": 155
        },
        "id": "VI4Gf6SfeqR8",
        "outputId": "431c6e95-6cb1-4c36-a3a8-e924193a1873"
      },
      "outputs": [
        {
          "name": "stdout",
          "output_type": "stream",
          "text": [
            " * sqlite:///love4pets.db\n",
            "Done.\n"
          ]
        },
        {
          "data": {
            "text/html": [
              "<table>\n",
              "    <thead>\n",
              "        <tr>\n",
              "            <th>nombre</th>\n",
              "            <th>departamento_id</th>\n",
              "        </tr>\n",
              "    </thead>\n",
              "    <tbody>\n",
              "        <tr>\n",
              "            <td>Pablo Pons Sanz</td>\n",
              "            <td>1</td>\n",
              "        </tr>\n",
              "        <tr>\n",
              "            <td>Saul Moreno Santos</td>\n",
              "            <td>1</td>\n",
              "        </tr>\n",
              "        <tr>\n",
              "            <td>Isaac Jimenez Ortiz</td>\n",
              "            <td>3</td>\n",
              "        </tr>\n",
              "        <tr>\n",
              "            <td>Guillermo Vidal Gomez</td>\n",
              "            <td>3</td>\n",
              "        </tr>\n",
              "    </tbody>\n",
              "</table>"
            ],
            "text/plain": [
              "[('Pablo Pons Sanz', 1),\n",
              " ('Saul Moreno Santos', 1),\n",
              " ('Isaac Jimenez Ortiz', 3),\n",
              " ('Guillermo Vidal Gomez', 3)]"
            ]
          },
          "execution_count": 29,
          "metadata": {},
          "output_type": "execute_result"
        }
      ],
      "source": [
        "%%sql\n",
        "select nombre, departamento_id from empleado where (empleado.departamento_id = 1) OR (empleado.departamento_id = 3)"
      ]
    },
    {
      "cell_type": "markdown",
      "metadata": {
        "id": "GCZoPYQleqR8"
      },
      "source": [
        "En la consulta anterior se muestran los empleados que trabajan en el departamento de Finanzas o en el departamento de Recursos Humanos"
      ]
    },
    {
      "cell_type": "markdown",
      "metadata": {
        "id": "9Iyx0RJmeqR9"
      },
      "source": [
        "Ejemplo con el operador **NOT**\n",
        "\n",
        "Veamos el complemento de la consulta anterior."
      ]
    },
    {
      "cell_type": "code",
      "execution_count": null,
      "metadata": {
        "colab": {
          "base_uri": "https://localhost:8080/",
          "height": 216
        },
        "id": "XspbY-paeqR9",
        "outputId": "2fa5c8b7-2c28-4add-fc7f-7e2b002bf046"
      },
      "outputs": [
        {
          "name": "stdout",
          "output_type": "stream",
          "text": [
            " * sqlite:///love4pets.db\n",
            "Done.\n"
          ]
        },
        {
          "data": {
            "text/html": [
              "<table>\n",
              "    <thead>\n",
              "        <tr>\n",
              "            <th>nombre</th>\n",
              "            <th>departamento_id</th>\n",
              "        </tr>\n",
              "    </thead>\n",
              "    <tbody>\n",
              "        <tr>\n",
              "            <td>Andres Riera Herrera</td>\n",
              "            <td>6</td>\n",
              "        </tr>\n",
              "        <tr>\n",
              "            <td>Lucas Serrano Caballero</td>\n",
              "            <td>2</td>\n",
              "        </tr>\n",
              "        <tr>\n",
              "            <td>Nil Soler Diez</td>\n",
              "            <td>5</td>\n",
              "        </tr>\n",
              "        <tr>\n",
              "            <td>Sergio Reyes Gallardo</td>\n",
              "            <td>5</td>\n",
              "        </tr>\n",
              "        <tr>\n",
              "            <td>Daniel Quintero Quintero</td>\n",
              "            <td>6</td>\n",
              "        </tr>\n",
              "        <tr>\n",
              "            <td>Miguel Soto</td>\n",
              "            <td>6</td>\n",
              "        </tr>\n",
              "        <tr>\n",
              "            <td>Alejandro Fernandez</td>\n",
              "            <td>6</td>\n",
              "        </tr>\n",
              "    </tbody>\n",
              "</table>"
            ],
            "text/plain": [
              "[('Andres Riera Herrera', 6),\n",
              " ('Lucas Serrano Caballero', 2),\n",
              " ('Nil Soler Diez', 5),\n",
              " ('Sergio Reyes Gallardo', 5),\n",
              " ('Daniel Quintero Quintero', 6),\n",
              " ('Miguel Soto', 6),\n",
              " ('Alejandro Fernandez', 6)]"
            ]
          },
          "execution_count": 30,
          "metadata": {},
          "output_type": "execute_result"
        }
      ],
      "source": [
        "%%sql\n",
        "select nombre, departamento_id from empleado\n",
        "where\n",
        "NOT ( (empleado.departamento_id = 1) OR (empleado.departamento_id = 3) )"
      ]
    },
    {
      "cell_type": "markdown",
      "metadata": {
        "id": "jFWqnsNeeqR9"
      },
      "source": [
        "### **Ejercicio 4**\n",
        "--------\n",
        "La empresa Love4Pets considera hacer un descuento sobre los productos que cuestan entre 10 y 20 euros, y complementos vitamínicos.\n",
        "      \n",
        "Se requiere que liste las columnas \"nombre\", \"descripcion\", \"precio\" de productos a los que debe ser aplicado el descuento. ( asuma que los productos se encuentran en la tabla \"producto\" )\n",
        "   \n",
        "Asuma que el producto vitaminico no lleva acentos, generalmente estos productos tienen la palabra vitamina en la **\"descripcion\"** pero podria ser alguna variante como vitaminico o comenzar por mayusculas, el departamento de informática recomendó usar la función Like para esta busqueda."
      ]
    },
    {
      "cell_type": "code",
      "execution_count": 50,
      "metadata": {
        "colab": {
          "base_uri": "https://localhost:8080/",
          "height": 178
        },
        "id": "wSl1doJVeqR-",
        "outputId": "3a40fa34-3878-4757-c953-619ac75d615a"
      },
      "outputs": [
        {
          "output_type": "stream",
          "name": "stdout",
          "text": [
            " * sqlite:////content/love4pets.db\n",
            "   sqlite:///love4pets.db\n",
            "Done.\n"
          ]
        },
        {
          "output_type": "execute_result",
          "data": {
            "text/plain": [
              "[('Vitaminas', 'Complemento vitaminico', 5),\n",
              " ('Perrarina', 'Huesos', 12),\n",
              " ('Gatarina', 'Catspettito', 13),\n",
              " ('Consulta', 'Consulta veterinaria', 15)]"
            ],
            "text/html": [
              "<table>\n",
              "    <thead>\n",
              "        <tr>\n",
              "            <th>nombre</th>\n",
              "            <th>descripcion</th>\n",
              "            <th>precio</th>\n",
              "        </tr>\n",
              "    </thead>\n",
              "    <tbody>\n",
              "        <tr>\n",
              "            <td>Vitaminas</td>\n",
              "            <td>Complemento vitaminico</td>\n",
              "            <td>5</td>\n",
              "        </tr>\n",
              "        <tr>\n",
              "            <td>Perrarina</td>\n",
              "            <td>Huesos</td>\n",
              "            <td>12</td>\n",
              "        </tr>\n",
              "        <tr>\n",
              "            <td>Gatarina</td>\n",
              "            <td>Catspettito</td>\n",
              "            <td>13</td>\n",
              "        </tr>\n",
              "        <tr>\n",
              "            <td>Consulta</td>\n",
              "            <td>Consulta veterinaria</td>\n",
              "            <td>15</td>\n",
              "        </tr>\n",
              "    </tbody>\n",
              "</table>"
            ]
          },
          "metadata": {},
          "execution_count": 50
        }
      ],
      "source": [
        "%sql select nombre, descripcion, precio from producto where (precio between 10 and 20 )or (descripcion like '%itamin%')"
      ]
    },
    {
      "cell_type": "markdown",
      "metadata": {
        "id": "cogCdjNXeqR-"
      },
      "source": [
        "### Funciones MAX() y MIN()\n",
        "Con frecuencia tenemos una lista de valores y queremos obtener el mayor o el menor, esto es lo que hacen las funciones Max y Min.\n",
        "\n",
        "Sintaxis de la función MIN\n",
        "```sql\n",
        "SELECT MIN(column_name)\n",
        "FROM table_name\n",
        "WHERE condition;\n",
        "```\n",
        "\n",
        "Sintaxis de la función MAX\n",
        "```sql\n",
        "SELECT MAX(column_name)\n",
        "FROM table_name\n",
        "WHERE condition;\n",
        "```\n",
        "Veamos un ejemplo:"
      ]
    },
    {
      "cell_type": "code",
      "execution_count": null,
      "metadata": {
        "colab": {
          "base_uri": "https://localhost:8080/",
          "height": 94
        },
        "id": "-rOvTDVweqR_",
        "outputId": "b00d5b86-dd3b-4121-e0b5-650854be2709"
      },
      "outputs": [
        {
          "name": "stdout",
          "output_type": "stream",
          "text": [
            " * sqlite:///love4pets.db\n",
            "Done.\n"
          ]
        },
        {
          "data": {
            "text/html": [
              "<table>\n",
              "    <thead>\n",
              "        <tr>\n",
              "            <th>MIN(precio)</th>\n",
              "        </tr>\n",
              "    </thead>\n",
              "    <tbody>\n",
              "        <tr>\n",
              "            <td>3</td>\n",
              "        </tr>\n",
              "    </tbody>\n",
              "</table>"
            ],
            "text/plain": [
              "[(3,)]"
            ]
          },
          "execution_count": 32,
          "metadata": {},
          "output_type": "execute_result"
        }
      ],
      "source": [
        "%sql select MIN(precio) from producto;"
      ]
    },
    {
      "cell_type": "code",
      "execution_count": null,
      "metadata": {
        "colab": {
          "base_uri": "https://localhost:8080/",
          "height": 94
        },
        "id": "u2q1jIUUeqR_",
        "outputId": "023c7ece-96db-4132-8148-f2d48ed3ed46"
      },
      "outputs": [
        {
          "name": "stdout",
          "output_type": "stream",
          "text": [
            " * sqlite:///love4pets.db\n",
            "Done.\n"
          ]
        },
        {
          "data": {
            "text/html": [
              "<table>\n",
              "    <thead>\n",
              "        <tr>\n",
              "            <th>MAX(precio)</th>\n",
              "        </tr>\n",
              "    </thead>\n",
              "    <tbody>\n",
              "        <tr>\n",
              "            <td>15</td>\n",
              "        </tr>\n",
              "    </tbody>\n",
              "</table>"
            ],
            "text/plain": [
              "[(15,)]"
            ]
          },
          "execution_count": 33,
          "metadata": {},
          "output_type": "execute_result"
        }
      ],
      "source": [
        "%sql select MAX(precio) from producto;"
      ]
    },
    {
      "cell_type": "markdown",
      "metadata": {
        "id": "DK5kr83IeqR_"
      },
      "source": [
        "### **Ejercicio 5**\n",
        "--------\n",
        "La empresa Love4Pets esta considerando realizar un aumento.\n",
        "    \n",
        "Se requiere que indique cual es el menor sueldo que está pagando la empresa."
      ]
    },
    {
      "cell_type": "code",
      "execution_count": 52,
      "metadata": {
        "colab": {
          "base_uri": "https://localhost:8080/",
          "height": 114
        },
        "id": "BJKsu4ASeqSA",
        "outputId": "7e1844c5-56d4-4122-8461-32357305cf58"
      },
      "outputs": [
        {
          "output_type": "stream",
          "name": "stdout",
          "text": [
            " * sqlite:////content/love4pets.db\n",
            "   sqlite:///love4pets.db\n",
            "Done.\n"
          ]
        },
        {
          "output_type": "execute_result",
          "data": {
            "text/plain": [
              "[(1000,)]"
            ],
            "text/html": [
              "<table>\n",
              "    <thead>\n",
              "        <tr>\n",
              "            <th>min(salario)</th>\n",
              "        </tr>\n",
              "    </thead>\n",
              "    <tbody>\n",
              "        <tr>\n",
              "            <td>1000</td>\n",
              "        </tr>\n",
              "    </tbody>\n",
              "</table>"
            ]
          },
          "metadata": {},
          "execution_count": 52
        }
      ],
      "source": [
        "%sql select min(salario) from empleado;"
      ]
    },
    {
      "cell_type": "markdown",
      "metadata": {
        "id": "CBQBpJLNeqSA"
      },
      "source": [
        "### Funciones COUNT(), AVG(), SUM()\n",
        "Nos permite contar la cantidad de resultados que arroja una consulta, obtener un valor promedio, o sumar los valores de una consulta.\n",
        "\n",
        "**Función count** Retorna la cantidad de filas que arroja una consulta.\n",
        "\n",
        "Sintaxis de la función COUNT\n",
        "```sql\n",
        "SELECT COUNT(column_name)\n",
        "FROM table_name\n",
        "WHERE condition;\n",
        "```\n",
        "\n",
        "**Función AVG** Retorna la el promedio de los valores de las filas que arroja una consulta.\n",
        "\n",
        "Sintaxis de la función COUNT\n",
        "```sql\n",
        "SELECT AVG(column_name)\n",
        "FROM table_name\n",
        "WHERE condition;\n",
        "```\n",
        "\n",
        "**Función SUM** Retorna la el promedio de los valores de las filas que arroja una consulta.\n",
        "\n",
        "Sintaxis de la función COUNT\n",
        "```sql\n",
        "SELECT SUM(column_name)\n",
        "FROM table_name\n",
        "WHERE condition;\n",
        "```"
      ]
    },
    {
      "cell_type": "code",
      "execution_count": null,
      "metadata": {
        "colab": {
          "base_uri": "https://localhost:8080/",
          "height": 94
        },
        "id": "5O1dhsGWeqSA",
        "outputId": "e9424557-130f-4237-eb91-5667993bebdc"
      },
      "outputs": [
        {
          "name": "stdout",
          "output_type": "stream",
          "text": [
            " * sqlite:///love4pets.db\n",
            "Done.\n"
          ]
        },
        {
          "data": {
            "text/html": [
              "<table>\n",
              "    <thead>\n",
              "        <tr>\n",
              "            <th>COUNT(salario)</th>\n",
              "        </tr>\n",
              "    </thead>\n",
              "    <tbody>\n",
              "        <tr>\n",
              "            <td>12</td>\n",
              "        </tr>\n",
              "    </tbody>\n",
              "</table>"
            ],
            "text/plain": [
              "[(12,)]"
            ]
          },
          "execution_count": 35,
          "metadata": {},
          "output_type": "execute_result"
        }
      ],
      "source": [
        "%sql select COUNT(salario) from empleado;"
      ]
    },
    {
      "cell_type": "code",
      "execution_count": null,
      "metadata": {
        "colab": {
          "base_uri": "https://localhost:8080/",
          "height": 94
        },
        "id": "XFrFybeTeqSB",
        "outputId": "249c3ac9-6575-4835-b4f5-776a9f9deb0f"
      },
      "outputs": [
        {
          "name": "stdout",
          "output_type": "stream",
          "text": [
            " * sqlite:///love4pets.db\n",
            "Done.\n"
          ]
        },
        {
          "data": {
            "text/html": [
              "<table>\n",
              "    <thead>\n",
              "        <tr>\n",
              "            <th>AVG(salario)</th>\n",
              "        </tr>\n",
              "    </thead>\n",
              "    <tbody>\n",
              "        <tr>\n",
              "            <td>1458.3333333333333</td>\n",
              "        </tr>\n",
              "    </tbody>\n",
              "</table>"
            ],
            "text/plain": [
              "[(1458.3333333333333,)]"
            ]
          },
          "execution_count": 36,
          "metadata": {},
          "output_type": "execute_result"
        }
      ],
      "source": [
        "%sql select AVG(salario) from empleado;"
      ]
    },
    {
      "cell_type": "code",
      "execution_count": null,
      "metadata": {
        "colab": {
          "base_uri": "https://localhost:8080/",
          "height": 94
        },
        "id": "OCKkYUlfeqSB",
        "outputId": "92b11058-b319-47e8-a794-19f094a5a692"
      },
      "outputs": [
        {
          "name": "stdout",
          "output_type": "stream",
          "text": [
            " * sqlite:///love4pets.db\n",
            "Done.\n"
          ]
        },
        {
          "data": {
            "text/html": [
              "<table>\n",
              "    <thead>\n",
              "        <tr>\n",
              "            <th>SUM(salario)</th>\n",
              "        </tr>\n",
              "    </thead>\n",
              "    <tbody>\n",
              "        <tr>\n",
              "            <td>17500</td>\n",
              "        </tr>\n",
              "    </tbody>\n",
              "</table>"
            ],
            "text/plain": [
              "[(17500,)]"
            ]
          },
          "execution_count": 37,
          "metadata": {},
          "output_type": "execute_result"
        }
      ],
      "source": [
        "%sql select SUM(salario) from empleado;"
      ]
    },
    {
      "cell_type": "markdown",
      "metadata": {
        "id": "JiSlG5fheqSB"
      },
      "source": [
        "### **Ejercicio 6**\n",
        "--------\n",
        "La empresa Love4Pets continúa estudiando un ajuste en los salarios de los empleados, por lo que se quiere conocer el presupuesto total requerido para el pago de los salarios en un año."
      ]
    },
    {
      "cell_type": "code",
      "execution_count": 75,
      "metadata": {
        "colab": {
          "base_uri": "https://localhost:8080/",
          "height": 114
        },
        "id": "F4hejvMWeqSC",
        "outputId": "2b1a74c5-658b-4246-d7b0-ff1e4411b065"
      },
      "outputs": [
        {
          "output_type": "stream",
          "name": "stdout",
          "text": [
            " * sqlite:////content/love4pets.db\n",
            "   sqlite:///love4pets.db\n",
            "Done.\n"
          ]
        },
        {
          "output_type": "execute_result",
          "data": {
            "text/plain": [
              "[(210000,)]"
            ],
            "text/html": [
              "<table>\n",
              "    <thead>\n",
              "        <tr>\n",
              "            <th>sum(salario)*12</th>\n",
              "        </tr>\n",
              "    </thead>\n",
              "    <tbody>\n",
              "        <tr>\n",
              "            <td>210000</td>\n",
              "        </tr>\n",
              "    </tbody>\n",
              "</table>"
            ]
          },
          "metadata": {},
          "execution_count": 75
        }
      ],
      "source": [
        "%sql select sum(salario)*12 from empleado;"
      ]
    },
    {
      "cell_type": "markdown",
      "metadata": {
        "id": "dniup-iheqSC"
      },
      "source": [
        "### El Operador IN\n",
        "Permite especificar multiples valores a la clausula WHERE\n",
        "\n",
        "Sintaxis del operador IN\n",
        "```sql\n",
        "SELECT column_name(s)\n",
        "FROM table_name\n",
        "WHERE column_name IN (value1, value2, ...);\n",
        "```\n",
        "Veamos un ejemplo"
      ]
    },
    {
      "cell_type": "code",
      "execution_count": null,
      "metadata": {
        "colab": {
          "base_uri": "https://localhost:8080/",
          "height": 380
        },
        "id": "mHuUG4GceqSD",
        "outputId": "507f2539-f632-4b44-a71a-59c01590887d"
      },
      "outputs": [
        {
          "name": "stdout",
          "output_type": "stream",
          "text": [
            " * sqlite:///love4pets.db\n",
            "Done.\n"
          ]
        },
        {
          "data": {
            "text/html": [
              "<table>\n",
              "    <thead>\n",
              "        <tr>\n",
              "            <th>nombre</th>\n",
              "        </tr>\n",
              "    </thead>\n",
              "    <tbody>\n",
              "        <tr>\n",
              "            <td>Mario Flores Gallardo</td>\n",
              "        </tr>\n",
              "        <tr>\n",
              "            <td>Arnau Medina Garcia</td>\n",
              "        </tr>\n",
              "        <tr>\n",
              "            <td>Ivan Medina Rubio</td>\n",
              "        </tr>\n",
              "        <tr>\n",
              "            <td>Jan Vargas Santana</td>\n",
              "        </tr>\n",
              "        <tr>\n",
              "            <td>Carlos Costa Guerrero</td>\n",
              "        </tr>\n",
              "        <tr>\n",
              "            <td>Roberto Martin Ortega</td>\n",
              "        </tr>\n",
              "        <tr>\n",
              "            <td>Gabriel Gonzalez Ortega</td>\n",
              "        </tr>\n",
              "        <tr>\n",
              "            <td>Rayan Leon Ferrer</td>\n",
              "        </tr>\n",
              "        <tr>\n",
              "            <td>Aitor Ruiz Sanchez</td>\n",
              "        </tr>\n",
              "        <tr>\n",
              "            <td>Eric Rubio Carrasco</td>\n",
              "        </tr>\n",
              "        <tr>\n",
              "            <td>Alberto Sanz Ruiz</td>\n",
              "        </tr>\n",
              "        <tr>\n",
              "            <td>Jesus Medina Hernandez</td>\n",
              "        </tr>\n",
              "        <tr>\n",
              "            <td>Pol Moya Pena</td>\n",
              "        </tr>\n",
              "        <tr>\n",
              "            <td>Jose Gallardo Rodriguez</td>\n",
              "        </tr>\n",
              "        <tr>\n",
              "            <td>Manuel Angel Gil</td>\n",
              "        </tr>\n",
              "    </tbody>\n",
              "</table>"
            ],
            "text/plain": [
              "[('Mario Flores Gallardo',),\n",
              " ('Arnau Medina Garcia',),\n",
              " ('Ivan Medina Rubio',),\n",
              " ('Jan Vargas Santana',),\n",
              " ('Carlos Costa Guerrero',),\n",
              " ('Roberto Martin Ortega',),\n",
              " ('Gabriel Gonzalez Ortega',),\n",
              " ('Rayan Leon Ferrer',),\n",
              " ('Aitor Ruiz Sanchez',),\n",
              " ('Eric Rubio Carrasco',),\n",
              " ('Alberto Sanz Ruiz',),\n",
              " ('Jesus Medina Hernandez',),\n",
              " ('Pol Moya Pena',),\n",
              " ('Jose Gallardo Rodriguez',),\n",
              " ('Manuel Angel Gil',)]"
            ]
          },
          "execution_count": 39,
          "metadata": {},
          "output_type": "execute_result"
        }
      ],
      "source": [
        "%sql select nombre from cliente where ciudad IN (\"Madrid\",\"Toledo\");"
      ]
    },
    {
      "cell_type": "markdown",
      "metadata": {
        "id": "aVlOq-SYeqSD"
      },
      "source": [
        "### Clausula JOIN\n",
        "\n",
        "Hasta ahora hemos realizado consultas muy sencillas casi todas sobre una sola tabla, sin aprovechar las relaciones que existen entre las tablas.\n",
        "\n",
        "Algunas de las tablas en Love4Pets están relacionadas  por medio de claves foraneas, por ejemplo la tabla empleado tiene un campo departamento_id que almacena el código del departamento donde trabaja un empleado, por medio de está relación podemos consultar también el nombre del departamento, esta consulta puede hacerse haciendo consultas anidadas, pero también usando la clausula **JOIN**\n",
        "\n",
        "La clausula JOIN es usada para combinar columnas de una o mas tablas por medio de campos que relacionan estas tablas.\n",
        "\n",
        "Existen diferentes tipos de JOIN.  \n"
      ]
    },
    {
      "cell_type": "markdown",
      "metadata": {
        "id": "a0iYset5_MSq"
      },
      "source": [
        "#### **Inner JOIN**\n",
        "Retorna los valores cumplen la relación entre ambas tablas, es decir las filas de una tabla que estan relacionadas con filas de otra tabla por medio de claves foraneas. El INNER JOIN también es llamado simplemente JOIN.\n",
        "\n",
        "Sintaxis del Inner Join\n",
        "\n",
        "```sql\n",
        "select campo1, campo2, campoN FROM tabla1 INNER JOIN tabla2 ON tabla1.campo = tabla2.campo;\n",
        "```\n",
        "\n",
        "Veamos un ejemplo:  \n",
        "Primero veamos la siguiente consulta\n"
      ]
    },
    {
      "cell_type": "code",
      "execution_count": null,
      "metadata": {
        "colab": {
          "base_uri": "https://localhost:8080/",
          "height": 298
        },
        "id": "YBgx-wiveqSD",
        "outputId": "7dcedf14-d8b3-455b-e2d0-e77ae9bcafc9"
      },
      "outputs": [
        {
          "name": "stdout",
          "output_type": "stream",
          "text": [
            " * sqlite:///love4pets.db\n",
            "Done.\n"
          ]
        },
        {
          "data": {
            "text/html": [
              "<table>\n",
              "    <thead>\n",
              "        <tr>\n",
              "            <th>nombre</th>\n",
              "            <th>nombre_1</th>\n",
              "        </tr>\n",
              "    </thead>\n",
              "    <tbody>\n",
              "        <tr>\n",
              "            <td>Andres Riera Herrera</td>\n",
              "            <td>informatica</td>\n",
              "        </tr>\n",
              "        <tr>\n",
              "            <td>Lucas Serrano Caballero</td>\n",
              "            <td>ventas</td>\n",
              "        </tr>\n",
              "        <tr>\n",
              "            <td>Pablo Pons Sanz</td>\n",
              "            <td>finanzas</td>\n",
              "        </tr>\n",
              "        <tr>\n",
              "            <td>Saul Moreno Santos</td>\n",
              "            <td>finanzas</td>\n",
              "        </tr>\n",
              "        <tr>\n",
              "            <td>Nil Soler Diez</td>\n",
              "            <td>veterinario</td>\n",
              "        </tr>\n",
              "        <tr>\n",
              "            <td>Sergio Reyes Gallardo</td>\n",
              "            <td>veterinario</td>\n",
              "        </tr>\n",
              "        <tr>\n",
              "            <td>Isaac Jimenez Ortiz</td>\n",
              "            <td>recursos humanos</td>\n",
              "        </tr>\n",
              "        <tr>\n",
              "            <td>Guillermo Vidal Gomez</td>\n",
              "            <td>recursos humanos</td>\n",
              "        </tr>\n",
              "        <tr>\n",
              "            <td>Daniel Quintero Quintero</td>\n",
              "            <td>informatica</td>\n",
              "        </tr>\n",
              "        <tr>\n",
              "            <td>Miguel Soto</td>\n",
              "            <td>informatica</td>\n",
              "        </tr>\n",
              "        <tr>\n",
              "            <td>Alejandro Fernandez</td>\n",
              "            <td>informatica</td>\n",
              "        </tr>\n",
              "    </tbody>\n",
              "</table>"
            ],
            "text/plain": [
              "[('Andres Riera Herrera', 'informatica'),\n",
              " ('Lucas Serrano Caballero', 'ventas'),\n",
              " ('Pablo Pons Sanz', 'finanzas'),\n",
              " ('Saul Moreno Santos', 'finanzas'),\n",
              " ('Nil Soler Diez', 'veterinario'),\n",
              " ('Sergio Reyes Gallardo', 'veterinario'),\n",
              " ('Isaac Jimenez Ortiz', 'recursos humanos'),\n",
              " ('Guillermo Vidal Gomez', 'recursos humanos'),\n",
              " ('Daniel Quintero Quintero', 'informatica'),\n",
              " ('Miguel Soto', 'informatica'),\n",
              " ('Alejandro Fernandez', 'informatica')]"
            ]
          },
          "execution_count": 40,
          "metadata": {},
          "output_type": "execute_result"
        }
      ],
      "source": [
        "%%sql\n",
        "select empleado.nombre, departamento.nombre from empleado, departamento\n",
        "WHERE\n",
        "empleado.departamento_id = departamento.departamento_id;"
      ]
    },
    {
      "cell_type": "markdown",
      "metadata": {
        "id": "qIsdagL5eqSE"
      },
      "source": [
        "Se muestran todos los empleados que trabajan en algun departamento, en esta consulta se excluyen empleados que no trabajan en ningun departamento y departamentos que no tienen ningun empleado.\n",
        "\n",
        "Veamos ahora la siguiente consulta"
      ]
    },
    {
      "cell_type": "code",
      "execution_count": null,
      "metadata": {
        "colab": {
          "base_uri": "https://localhost:8080/",
          "height": 298
        },
        "id": "7KhRunrHeqSE",
        "outputId": "643fb2b9-bd91-4123-932d-368b0a6b7421"
      },
      "outputs": [
        {
          "name": "stdout",
          "output_type": "stream",
          "text": [
            " * sqlite:///love4pets.db\n",
            "Done.\n"
          ]
        },
        {
          "data": {
            "text/html": [
              "<table>\n",
              "    <thead>\n",
              "        <tr>\n",
              "            <th>nombre</th>\n",
              "            <th>nombre_1</th>\n",
              "        </tr>\n",
              "    </thead>\n",
              "    <tbody>\n",
              "        <tr>\n",
              "            <td>Andres Riera Herrera</td>\n",
              "            <td>informatica</td>\n",
              "        </tr>\n",
              "        <tr>\n",
              "            <td>Lucas Serrano Caballero</td>\n",
              "            <td>ventas</td>\n",
              "        </tr>\n",
              "        <tr>\n",
              "            <td>Pablo Pons Sanz</td>\n",
              "            <td>finanzas</td>\n",
              "        </tr>\n",
              "        <tr>\n",
              "            <td>Saul Moreno Santos</td>\n",
              "            <td>finanzas</td>\n",
              "        </tr>\n",
              "        <tr>\n",
              "            <td>Nil Soler Diez</td>\n",
              "            <td>veterinario</td>\n",
              "        </tr>\n",
              "        <tr>\n",
              "            <td>Sergio Reyes Gallardo</td>\n",
              "            <td>veterinario</td>\n",
              "        </tr>\n",
              "        <tr>\n",
              "            <td>Isaac Jimenez Ortiz</td>\n",
              "            <td>recursos humanos</td>\n",
              "        </tr>\n",
              "        <tr>\n",
              "            <td>Guillermo Vidal Gomez</td>\n",
              "            <td>recursos humanos</td>\n",
              "        </tr>\n",
              "        <tr>\n",
              "            <td>Daniel Quintero Quintero</td>\n",
              "            <td>informatica</td>\n",
              "        </tr>\n",
              "        <tr>\n",
              "            <td>Miguel Soto</td>\n",
              "            <td>informatica</td>\n",
              "        </tr>\n",
              "        <tr>\n",
              "            <td>Alejandro Fernandez</td>\n",
              "            <td>informatica</td>\n",
              "        </tr>\n",
              "    </tbody>\n",
              "</table>"
            ],
            "text/plain": [
              "[('Andres Riera Herrera', 'informatica'),\n",
              " ('Lucas Serrano Caballero', 'ventas'),\n",
              " ('Pablo Pons Sanz', 'finanzas'),\n",
              " ('Saul Moreno Santos', 'finanzas'),\n",
              " ('Nil Soler Diez', 'veterinario'),\n",
              " ('Sergio Reyes Gallardo', 'veterinario'),\n",
              " ('Isaac Jimenez Ortiz', 'recursos humanos'),\n",
              " ('Guillermo Vidal Gomez', 'recursos humanos'),\n",
              " ('Daniel Quintero Quintero', 'informatica'),\n",
              " ('Miguel Soto', 'informatica'),\n",
              " ('Alejandro Fernandez', 'informatica')]"
            ]
          },
          "execution_count": 41,
          "metadata": {},
          "output_type": "execute_result"
        }
      ],
      "source": [
        "%%sql\n",
        "select empleado.nombre, departamento.nombre from empleado\n",
        "INNER JOIN\n",
        "departamento ON empleado.departamento_id = departamento.departamento_id;"
      ]
    },
    {
      "cell_type": "markdown",
      "metadata": {
        "id": "qEr4ss-QeqSE"
      },
      "source": [
        "Esta instrucción realiza la misma consulta que el comando anterior, es decir muestra los empleados que trabajan en algun departamento"
      ]
    },
    {
      "cell_type": "markdown",
      "metadata": {
        "id": "VCBgEyi6eqSE"
      },
      "source": [
        "#### **Left JOIN**\n",
        "Retorna los registros de la tabla \"izquierda\" o la primera tabla, y los registros que coinciden con la segunda tabla, excluyendo los registros que se encuentren en la segunda tabla pero que no hagan match con la primera.\n",
        "![Texto alternativo](https://raw.githubusercontent.com/dasesu/practicasql/master/imagenes/left%20join.png)\n",
        "\n",
        "Sintaxis del LEFT JOIN\n",
        "```sql\n",
        "select campo1, campo2, campoN FROM tabla1 LEFT JOIN tabla2 ON tabla1.campo = tabla2.campo;\n",
        "```\n",
        "\n",
        "Veamos un ejemplo:  "
      ]
    },
    {
      "cell_type": "code",
      "execution_count": null,
      "metadata": {
        "colab": {
          "base_uri": "https://localhost:8080/",
          "height": 318
        },
        "id": "HZ61BQaNeqSF",
        "outputId": "deb71b4f-dc13-4d91-dcc9-a6706face51a"
      },
      "outputs": [
        {
          "name": "stdout",
          "output_type": "stream",
          "text": [
            " * sqlite:///love4pets.db\n",
            "Done.\n"
          ]
        },
        {
          "data": {
            "text/html": [
              "<table>\n",
              "    <thead>\n",
              "        <tr>\n",
              "            <th>nombre</th>\n",
              "            <th>nombre_1</th>\n",
              "        </tr>\n",
              "    </thead>\n",
              "    <tbody>\n",
              "        <tr>\n",
              "            <td>Andres Riera Herrera</td>\n",
              "            <td>informatica</td>\n",
              "        </tr>\n",
              "        <tr>\n",
              "            <td>Lucas Serrano Caballero</td>\n",
              "            <td>ventas</td>\n",
              "        </tr>\n",
              "        <tr>\n",
              "            <td>Pablo Pons Sanz</td>\n",
              "            <td>finanzas</td>\n",
              "        </tr>\n",
              "        <tr>\n",
              "            <td>Saul Moreno Santos</td>\n",
              "            <td>finanzas</td>\n",
              "        </tr>\n",
              "        <tr>\n",
              "            <td>Nil Soler Diez</td>\n",
              "            <td>veterinario</td>\n",
              "        </tr>\n",
              "        <tr>\n",
              "            <td>Sergio Reyes Gallardo</td>\n",
              "            <td>veterinario</td>\n",
              "        </tr>\n",
              "        <tr>\n",
              "            <td>Isaac Jimenez Ortiz</td>\n",
              "            <td>recursos humanos</td>\n",
              "        </tr>\n",
              "        <tr>\n",
              "            <td>Guillermo Vidal Gomez</td>\n",
              "            <td>recursos humanos</td>\n",
              "        </tr>\n",
              "        <tr>\n",
              "            <td>Daniel Quintero Quintero</td>\n",
              "            <td>informatica</td>\n",
              "        </tr>\n",
              "        <tr>\n",
              "            <td>Juan Manuel Olivares</td>\n",
              "            <td>None</td>\n",
              "        </tr>\n",
              "        <tr>\n",
              "            <td>Miguel Soto</td>\n",
              "            <td>informatica</td>\n",
              "        </tr>\n",
              "        <tr>\n",
              "            <td>Alejandro Fernandez</td>\n",
              "            <td>informatica</td>\n",
              "        </tr>\n",
              "    </tbody>\n",
              "</table>"
            ],
            "text/plain": [
              "[('Andres Riera Herrera', 'informatica'),\n",
              " ('Lucas Serrano Caballero', 'ventas'),\n",
              " ('Pablo Pons Sanz', 'finanzas'),\n",
              " ('Saul Moreno Santos', 'finanzas'),\n",
              " ('Nil Soler Diez', 'veterinario'),\n",
              " ('Sergio Reyes Gallardo', 'veterinario'),\n",
              " ('Isaac Jimenez Ortiz', 'recursos humanos'),\n",
              " ('Guillermo Vidal Gomez', 'recursos humanos'),\n",
              " ('Daniel Quintero Quintero', 'informatica'),\n",
              " ('Juan Manuel Olivares', None),\n",
              " ('Miguel Soto', 'informatica'),\n",
              " ('Alejandro Fernandez', 'informatica')]"
            ]
          },
          "execution_count": 42,
          "metadata": {},
          "output_type": "execute_result"
        }
      ],
      "source": [
        "%%sql\n",
        "select empleado.nombre, departamento.nombre from empleado\n",
        "LEFT JOIN\n",
        "departamento ON empleado.departamento_id = departamento.departamento_id;"
      ]
    },
    {
      "cell_type": "markdown",
      "metadata": {
        "id": "3yxZvkdQeqSF"
      },
      "source": [
        "En el resultado anterior observe que el empleado \"Juan Manuel Olivares\" no está asociado a ningun departamento, sin embargo este es mostrado porque forma parte de la tabla1, pero no en la tabla2\n"
      ]
    },
    {
      "cell_type": "markdown",
      "metadata": {
        "id": "_5IHk73leqSF"
      },
      "source": [
        "#### **Right JOIN**\n",
        "Retorna los registros de la tabla \"derecha\" o la segunda tabla, y los registros que coinciden con la primera tabla, excluyendo los registros que se encuentren en la primera tabla pero que no hagan match con la segunda.\n",
        "\n",
        "Sintaxis del RIGHT JOIN\n",
        "```sql\n",
        "select campo1, campo2, campoN FROM tabla1 RIGHT JOIN tabla2 ON tabla1.campo = tabla2.campo;\n",
        "```\n",
        "\n",
        "**Esta instrucción no es reconocida por Sqlite3, por lo que al tratar de ejecutar esta sentencia se obtendrá un error.**\n",
        "\n",
        "Sin embargo esta instrucción puede construirse usando un LEFT JOIN invirtiendo el orden de las tablas.\n",
        "\n",
        "Veamos un ejemplo. ( El siguiente es un error provocado de forma intencional )"
      ]
    },
    {
      "cell_type": "code",
      "execution_count": null,
      "metadata": {
        "colab": {
          "base_uri": "https://localhost:8080/"
        },
        "id": "ArPHosfreqSG",
        "outputId": "dab1f457-e016-4558-fb77-bd908ae50721"
      },
      "outputs": [
        {
          "name": "stdout",
          "output_type": "stream",
          "text": [
            " * sqlite:///love4pets.db\n",
            "(sqlite3.OperationalError) RIGHT and FULL OUTER JOINs are not currently supported\n",
            "[SQL: select empleado.nombre, departamento.nombre from empleado\n",
            "RIGHT JOIN\n",
            "departamento ON empleado.departamento_id = departamento.departamento_id;]\n",
            "(Background on this error at: https://sqlalche.me/e/20/e3q8)\n"
          ]
        }
      ],
      "source": [
        "%%sql\n",
        "select empleado.nombre, departamento.nombre from empleado\n",
        "RIGHT JOIN\n",
        "departamento ON empleado.departamento_id = departamento.departamento_id;"
      ]
    },
    {
      "cell_type": "markdown",
      "metadata": {
        "id": "DzfmYENLeqSG"
      },
      "source": [
        "El siguiente código arroja el mismo resultado que debería arrojar el RIGHT JOIN, haciendo uso del LEFT JOIN, invirtiendo las la posición de las tablas"
      ]
    },
    {
      "cell_type": "code",
      "execution_count": null,
      "metadata": {
        "colab": {
          "base_uri": "https://localhost:8080/",
          "height": 339
        },
        "id": "X_tAzs73eqSG",
        "outputId": "6726a09c-5e62-4c27-c0e0-0bf62177370e"
      },
      "outputs": [
        {
          "name": "stdout",
          "output_type": "stream",
          "text": [
            " * sqlite:///love4pets.db\n",
            "Done.\n"
          ]
        },
        {
          "data": {
            "text/html": [
              "<table>\n",
              "    <thead>\n",
              "        <tr>\n",
              "            <th>nombre</th>\n",
              "            <th>nombre_1</th>\n",
              "        </tr>\n",
              "    </thead>\n",
              "    <tbody>\n",
              "        <tr>\n",
              "            <td>finanzas</td>\n",
              "            <td>Pablo Pons Sanz</td>\n",
              "        </tr>\n",
              "        <tr>\n",
              "            <td>finanzas</td>\n",
              "            <td>Saul Moreno Santos</td>\n",
              "        </tr>\n",
              "        <tr>\n",
              "            <td>ventas</td>\n",
              "            <td>Lucas Serrano Caballero</td>\n",
              "        </tr>\n",
              "        <tr>\n",
              "            <td>recursos humanos</td>\n",
              "            <td>Guillermo Vidal Gomez</td>\n",
              "        </tr>\n",
              "        <tr>\n",
              "            <td>recursos humanos</td>\n",
              "            <td>Isaac Jimenez Ortiz</td>\n",
              "        </tr>\n",
              "        <tr>\n",
              "            <td>marketing</td>\n",
              "            <td>None</td>\n",
              "        </tr>\n",
              "        <tr>\n",
              "            <td>veterinario</td>\n",
              "            <td>Nil Soler Diez</td>\n",
              "        </tr>\n",
              "        <tr>\n",
              "            <td>veterinario</td>\n",
              "            <td>Sergio Reyes Gallardo</td>\n",
              "        </tr>\n",
              "        <tr>\n",
              "            <td>informatica</td>\n",
              "            <td>Alejandro Fernandez</td>\n",
              "        </tr>\n",
              "        <tr>\n",
              "            <td>informatica</td>\n",
              "            <td>Andres Riera Herrera</td>\n",
              "        </tr>\n",
              "        <tr>\n",
              "            <td>informatica</td>\n",
              "            <td>Daniel Quintero Quintero</td>\n",
              "        </tr>\n",
              "        <tr>\n",
              "            <td>informatica</td>\n",
              "            <td>Miguel Soto</td>\n",
              "        </tr>\n",
              "        <tr>\n",
              "            <td>investigacion</td>\n",
              "            <td>None</td>\n",
              "        </tr>\n",
              "    </tbody>\n",
              "</table>"
            ],
            "text/plain": [
              "[('finanzas', 'Pablo Pons Sanz'),\n",
              " ('finanzas', 'Saul Moreno Santos'),\n",
              " ('ventas', 'Lucas Serrano Caballero'),\n",
              " ('recursos humanos', 'Guillermo Vidal Gomez'),\n",
              " ('recursos humanos', 'Isaac Jimenez Ortiz'),\n",
              " ('marketing', None),\n",
              " ('veterinario', 'Nil Soler Diez'),\n",
              " ('veterinario', 'Sergio Reyes Gallardo'),\n",
              " ('informatica', 'Alejandro Fernandez'),\n",
              " ('informatica', 'Andres Riera Herrera'),\n",
              " ('informatica', 'Daniel Quintero Quintero'),\n",
              " ('informatica', 'Miguel Soto'),\n",
              " ('investigacion', None)]"
            ]
          },
          "execution_count": 44,
          "metadata": {},
          "output_type": "execute_result"
        }
      ],
      "source": [
        "%%sql\n",
        "select departamento.nombre, empleado.nombre from departamento\n",
        "LEFT JOIN\n",
        "empleado ON empleado.departamento_id = departamento.departamento_id;"
      ]
    },
    {
      "cell_type": "markdown",
      "metadata": {
        "id": "8npIZN5ZeqSG"
      },
      "source": [
        "### **Ejercicio 7**\n",
        "--------\n",
        " Considerando la tabla \"cliente\" y la tabla \"mascota\" las cuales tienen una relación uno a muchos.  \n",
        " Indique los clientes que no tienen mascota registrada."
      ]
    },
    {
      "cell_type": "code",
      "execution_count": 64,
      "metadata": {
        "colab": {
          "base_uri": "https://localhost:8080/",
          "height": 470
        },
        "id": "ZPljhr8veqSH",
        "outputId": "e8227a91-dff0-4f58-d003-464a28f17338"
      },
      "outputs": [
        {
          "output_type": "stream",
          "name": "stdout",
          "text": [
            " * sqlite:////content/love4pets.db\n",
            "   sqlite:///love4pets.db\n",
            "Done.\n"
          ]
        },
        {
          "output_type": "execute_result",
          "data": {
            "text/plain": [
              "[(1, 'Mario Flores Gallardo', 'marioflores@gmail.com', '036-15-36', 'Aintzane Alvarez Iglesias', '210-35-57', 'Madrid', None, None, None, None, None, None),\n",
              " (4, 'Jan Vargas Santana', 'vargasjan@gmail.com', '780-65-24', '', '', 'Madrid', None, None, None, None, None, None),\n",
              " (9, 'Aitor Ruiz Sanchez', 'aitorsanchez@gmail.com', '780-77-24', 'Gabriel Gonzalez Ortega', '784-96-31', 'Madrid', None, None, None, None, None, None),\n",
              " (10, 'Eric Rubio Carrasco', 'ericrubio@gmail.com', '780-65-79', 'Cristian Jimenez Martinez', '147-01-12', 'Madrid', None, None, None, None, None, None),\n",
              " (12, 'Jesus Medina Hernandez', 'jmedinah@gmail.com', '782-35-25', 'Vctor Gonzalez Castillo', '661-85-12', 'Madrid', None, None, None, None, None, None),\n",
              " (13, 'Pol Moya Pena', 'polmoya@gmail.com', '780-25-24', '', '', 'Toledo', None, None, None, None, None, None),\n",
              " (15, 'Manuel Angel Gil', 'manano@gmail.com', '733-65-16', 'Hector Navarro', '067-97-91', 'Madrid', None, None, None, None, None, None)]"
            ],
            "text/html": [
              "<table>\n",
              "    <thead>\n",
              "        <tr>\n",
              "            <th>cliente_id</th>\n",
              "            <th>nombre</th>\n",
              "            <th>email</th>\n",
              "            <th>telefono</th>\n",
              "            <th>contacto</th>\n",
              "            <th>telefono_contacto</th>\n",
              "            <th>ciudad</th>\n",
              "            <th>mascota_id</th>\n",
              "            <th>nombre_1</th>\n",
              "            <th>cliente_id_1</th>\n",
              "            <th>especie</th>\n",
              "            <th>raza</th>\n",
              "            <th>fecha_nacimiento</th>\n",
              "        </tr>\n",
              "    </thead>\n",
              "    <tbody>\n",
              "        <tr>\n",
              "            <td>1</td>\n",
              "            <td>Mario Flores Gallardo</td>\n",
              "            <td>marioflores@gmail.com</td>\n",
              "            <td>036-15-36</td>\n",
              "            <td>Aintzane Alvarez Iglesias</td>\n",
              "            <td>210-35-57</td>\n",
              "            <td>Madrid</td>\n",
              "            <td>None</td>\n",
              "            <td>None</td>\n",
              "            <td>None</td>\n",
              "            <td>None</td>\n",
              "            <td>None</td>\n",
              "            <td>None</td>\n",
              "        </tr>\n",
              "        <tr>\n",
              "            <td>4</td>\n",
              "            <td>Jan Vargas Santana</td>\n",
              "            <td>vargasjan@gmail.com</td>\n",
              "            <td>780-65-24</td>\n",
              "            <td></td>\n",
              "            <td></td>\n",
              "            <td>Madrid</td>\n",
              "            <td>None</td>\n",
              "            <td>None</td>\n",
              "            <td>None</td>\n",
              "            <td>None</td>\n",
              "            <td>None</td>\n",
              "            <td>None</td>\n",
              "        </tr>\n",
              "        <tr>\n",
              "            <td>9</td>\n",
              "            <td>Aitor Ruiz Sanchez</td>\n",
              "            <td>aitorsanchez@gmail.com</td>\n",
              "            <td>780-77-24</td>\n",
              "            <td>Gabriel Gonzalez Ortega</td>\n",
              "            <td>784-96-31</td>\n",
              "            <td>Madrid</td>\n",
              "            <td>None</td>\n",
              "            <td>None</td>\n",
              "            <td>None</td>\n",
              "            <td>None</td>\n",
              "            <td>None</td>\n",
              "            <td>None</td>\n",
              "        </tr>\n",
              "        <tr>\n",
              "            <td>10</td>\n",
              "            <td>Eric Rubio Carrasco</td>\n",
              "            <td>ericrubio@gmail.com</td>\n",
              "            <td>780-65-79</td>\n",
              "            <td>Cristian Jimenez Martinez</td>\n",
              "            <td>147-01-12</td>\n",
              "            <td>Madrid</td>\n",
              "            <td>None</td>\n",
              "            <td>None</td>\n",
              "            <td>None</td>\n",
              "            <td>None</td>\n",
              "            <td>None</td>\n",
              "            <td>None</td>\n",
              "        </tr>\n",
              "        <tr>\n",
              "            <td>12</td>\n",
              "            <td>Jesus Medina Hernandez</td>\n",
              "            <td>jmedinah@gmail.com</td>\n",
              "            <td>782-35-25</td>\n",
              "            <td>Vctor Gonzalez Castillo</td>\n",
              "            <td>661-85-12</td>\n",
              "            <td>Madrid</td>\n",
              "            <td>None</td>\n",
              "            <td>None</td>\n",
              "            <td>None</td>\n",
              "            <td>None</td>\n",
              "            <td>None</td>\n",
              "            <td>None</td>\n",
              "        </tr>\n",
              "        <tr>\n",
              "            <td>13</td>\n",
              "            <td>Pol Moya Pena</td>\n",
              "            <td>polmoya@gmail.com</td>\n",
              "            <td>780-25-24</td>\n",
              "            <td></td>\n",
              "            <td></td>\n",
              "            <td>Toledo</td>\n",
              "            <td>None</td>\n",
              "            <td>None</td>\n",
              "            <td>None</td>\n",
              "            <td>None</td>\n",
              "            <td>None</td>\n",
              "            <td>None</td>\n",
              "        </tr>\n",
              "        <tr>\n",
              "            <td>15</td>\n",
              "            <td>Manuel Angel Gil</td>\n",
              "            <td>manano@gmail.com</td>\n",
              "            <td>733-65-16</td>\n",
              "            <td>Hector Navarro</td>\n",
              "            <td>067-97-91</td>\n",
              "            <td>Madrid</td>\n",
              "            <td>None</td>\n",
              "            <td>None</td>\n",
              "            <td>None</td>\n",
              "            <td>None</td>\n",
              "            <td>None</td>\n",
              "            <td>None</td>\n",
              "        </tr>\n",
              "    </tbody>\n",
              "</table>"
            ]
          },
          "metadata": {},
          "execution_count": 64
        }
      ],
      "source": [
        "%%sql\n",
        "select *\n",
        "from cliente\n",
        "left join\n",
        "mascota on cliente.cliente_id = mascota.cliente_id\n",
        "where mascota.nombre is NULL;"
      ]
    },
    {
      "cell_type": "markdown",
      "metadata": {
        "id": "AwUppS7seqSH"
      },
      "source": [
        "### Operador UNION\n",
        "Es usado para combinar resultados de varias consultas en una sola vista.\n",
        "* Cada Instrucción SELECT involucrada en la operación UNION tiene que tener la misma cantidad de columnas.\n",
        "* Las columnas ademas tienen que tener los mismos tipos de datos.\n",
        "\n",
        "**Sintaxis de la Operación UNION**\n",
        "```sql\n",
        "SELECT column_name(s) FROM table1\n",
        "UNION\n",
        "SELECT column_name(s) FROM table2;\n",
        "```"
      ]
    },
    {
      "cell_type": "code",
      "execution_count": null,
      "metadata": {
        "colab": {
          "base_uri": "https://localhost:8080/",
          "height": 625
        },
        "id": "ROc5ALu9eqSH",
        "outputId": "e2727c17-35a4-44b2-9c9b-039d2dc6dbae"
      },
      "outputs": [
        {
          "name": "stdout",
          "output_type": "stream",
          "text": [
            " * sqlite:///love4pets.db\n",
            "Done.\n"
          ]
        },
        {
          "data": {
            "text/html": [
              "<table>\n",
              "    <thead>\n",
              "        <tr>\n",
              "            <th>nombre</th>\n",
              "            <th>email</th>\n",
              "            <th>telefono</th>\n",
              "        </tr>\n",
              "    </thead>\n",
              "    <tbody>\n",
              "        <tr>\n",
              "            <td>Aitor Ruiz Sanchez</td>\n",
              "            <td>aitorsanchez@gmail.com</td>\n",
              "            <td>780-77-24</td>\n",
              "        </tr>\n",
              "        <tr>\n",
              "            <td>Alberto Sanz Ruiz</td>\n",
              "            <td>albert@gmail.com</td>\n",
              "            <td>781-15-24</td>\n",
              "        </tr>\n",
              "        <tr>\n",
              "            <td>Alejandro Fernandez</td>\n",
              "            <td>alefer@gmail.com</td>\n",
              "            <td>119-91-16</td>\n",
              "        </tr>\n",
              "        <tr>\n",
              "            <td>Andres Riera Herrera</td>\n",
              "            <td>andresr@gmail.com</td>\n",
              "            <td>200-88-76</td>\n",
              "        </tr>\n",
              "        <tr>\n",
              "            <td>Arnau Medina Garcia</td>\n",
              "            <td>arnaumedina@gmail.com</td>\n",
              "            <td>094-10-88</td>\n",
              "        </tr>\n",
              "        <tr>\n",
              "            <td>Carlos Costa Guerrero</td>\n",
              "            <td>carloscostag@gmail.com</td>\n",
              "            <td>180-65-24</td>\n",
              "        </tr>\n",
              "        <tr>\n",
              "            <td>Daniel Quintero Quintero</td>\n",
              "            <td>danielquinterox2@gmail.com</td>\n",
              "            <td>261-97-06</td>\n",
              "        </tr>\n",
              "        <tr>\n",
              "            <td>Eric Rubio Carrasco</td>\n",
              "            <td>ericrubio@gmail.com</td>\n",
              "            <td>780-65-79</td>\n",
              "        </tr>\n",
              "        <tr>\n",
              "            <td>Gabriel Gonzalez Ortega</td>\n",
              "            <td>gabogonzo@gmail.com</td>\n",
              "            <td>780-13-14</td>\n",
              "        </tr>\n",
              "        <tr>\n",
              "            <td>Guillermo Vidal Gomez</td>\n",
              "            <td>guillevidal@gmail.com</td>\n",
              "            <td>099-05-68</td>\n",
              "        </tr>\n",
              "        <tr>\n",
              "            <td>Isaac Jimenez Ortiz</td>\n",
              "            <td>isaacortiz@gmail.com</td>\n",
              "            <td>370-19-65</td>\n",
              "        </tr>\n",
              "        <tr>\n",
              "            <td>Ivan Medina Rubio</td>\n",
              "            <td>ivanmedina@gmail.com</td>\n",
              "            <td>083-08-72</td>\n",
              "        </tr>\n",
              "        <tr>\n",
              "            <td>Jan Vargas Santana</td>\n",
              "            <td>vargasjan@gmail.com</td>\n",
              "            <td>780-65-24</td>\n",
              "        </tr>\n",
              "        <tr>\n",
              "            <td>Jesus Medina Hernandez</td>\n",
              "            <td>jmedinah@gmail.com</td>\n",
              "            <td>782-35-25</td>\n",
              "        </tr>\n",
              "        <tr>\n",
              "            <td>Jose Gallardo Rodriguez</td>\n",
              "            <td>josegallardo@gmail.com</td>\n",
              "            <td>783-65-11</td>\n",
              "        </tr>\n",
              "        <tr>\n",
              "            <td>Juan Manuel Olivares</td>\n",
              "            <td>juanma@gmail.com</td>\n",
              "            <td>269-37-06</td>\n",
              "        </tr>\n",
              "        <tr>\n",
              "            <td>Lucas Serrano Caballero</td>\n",
              "            <td>lucas99@gmail.com</td>\n",
              "            <td>115-24-36</td>\n",
              "        </tr>\n",
              "        <tr>\n",
              "            <td>Manuel Angel Gil</td>\n",
              "            <td>manano@gmail.com</td>\n",
              "            <td>733-65-16</td>\n",
              "        </tr>\n",
              "        <tr>\n",
              "            <td>Mario Flores Gallardo</td>\n",
              "            <td>marioflores@gmail.com</td>\n",
              "            <td>036-15-36</td>\n",
              "        </tr>\n",
              "        <tr>\n",
              "            <td>Miguel Soto</td>\n",
              "            <td>misoto@gmail.com</td>\n",
              "            <td>269-92-06</td>\n",
              "        </tr>\n",
              "        <tr>\n",
              "            <td>Nil Soler Diez</td>\n",
              "            <td>nilsoler@gmail.com</td>\n",
              "            <td>576-84-28</td>\n",
              "        </tr>\n",
              "        <tr>\n",
              "            <td>Pablo Pons Sanz</td>\n",
              "            <td>ppsanz@gmail.com</td>\n",
              "            <td>748-72-75</td>\n",
              "        </tr>\n",
              "        <tr>\n",
              "            <td>Pol Moya Pena</td>\n",
              "            <td>polmoya@gmail.com</td>\n",
              "            <td>780-25-24</td>\n",
              "        </tr>\n",
              "        <tr>\n",
              "            <td>Rayan Leon Ferrer</td>\n",
              "            <td>rayito@gmail.com</td>\n",
              "            <td>430-65-24</td>\n",
              "        </tr>\n",
              "        <tr>\n",
              "            <td>Roberto Martin Ortega</td>\n",
              "            <td>robertmartin@gmail.com</td>\n",
              "            <td>742-63-27</td>\n",
              "        </tr>\n",
              "        <tr>\n",
              "            <td>Saul Moreno Santos</td>\n",
              "            <td>saul.morenosantos@gmail.com</td>\n",
              "            <td>346-87-27</td>\n",
              "        </tr>\n",
              "        <tr>\n",
              "            <td>Sergio Reyes Gallardo</td>\n",
              "            <td>zerg@gmail.com</td>\n",
              "            <td>598-95-67</td>\n",
              "        </tr>\n",
              "    </tbody>\n",
              "</table>"
            ],
            "text/plain": [
              "[('Aitor Ruiz Sanchez', 'aitorsanchez@gmail.com', '780-77-24'),\n",
              " ('Alberto Sanz Ruiz', 'albert@gmail.com', '781-15-24'),\n",
              " ('Alejandro Fernandez', 'alefer@gmail.com', '119-91-16'),\n",
              " ('Andres Riera Herrera', 'andresr@gmail.com', '200-88-76'),\n",
              " ('Arnau Medina Garcia', 'arnaumedina@gmail.com', '094-10-88'),\n",
              " ('Carlos Costa Guerrero', 'carloscostag@gmail.com', '180-65-24'),\n",
              " ('Daniel Quintero Quintero', 'danielquinterox2@gmail.com', '261-97-06'),\n",
              " ('Eric Rubio Carrasco', 'ericrubio@gmail.com', '780-65-79'),\n",
              " ('Gabriel Gonzalez Ortega', 'gabogonzo@gmail.com', '780-13-14'),\n",
              " ('Guillermo Vidal Gomez', 'guillevidal@gmail.com', '099-05-68'),\n",
              " ('Isaac Jimenez Ortiz', 'isaacortiz@gmail.com', '370-19-65'),\n",
              " ('Ivan Medina Rubio', 'ivanmedina@gmail.com', '083-08-72'),\n",
              " ('Jan Vargas Santana', 'vargasjan@gmail.com', '780-65-24'),\n",
              " ('Jesus Medina Hernandez', 'jmedinah@gmail.com', '782-35-25'),\n",
              " ('Jose Gallardo Rodriguez', 'josegallardo@gmail.com', '783-65-11'),\n",
              " ('Juan Manuel Olivares', 'juanma@gmail.com', '269-37-06'),\n",
              " ('Lucas Serrano Caballero', 'lucas99@gmail.com', '115-24-36'),\n",
              " ('Manuel Angel Gil', 'manano@gmail.com', '733-65-16'),\n",
              " ('Mario Flores Gallardo', 'marioflores@gmail.com', '036-15-36'),\n",
              " ('Miguel Soto', 'misoto@gmail.com', '269-92-06'),\n",
              " ('Nil Soler Diez', 'nilsoler@gmail.com', '576-84-28'),\n",
              " ('Pablo Pons Sanz', 'ppsanz@gmail.com', '748-72-75'),\n",
              " ('Pol Moya Pena', 'polmoya@gmail.com', '780-25-24'),\n",
              " ('Rayan Leon Ferrer', 'rayito@gmail.com', '430-65-24'),\n",
              " ('Roberto Martin Ortega', 'robertmartin@gmail.com', '742-63-27'),\n",
              " ('Saul Moreno Santos', 'saul.morenosantos@gmail.com', '346-87-27'),\n",
              " ('Sergio Reyes Gallardo', 'zerg@gmail.com', '598-95-67')]"
            ]
          },
          "execution_count": 46,
          "metadata": {},
          "output_type": "execute_result"
        }
      ],
      "source": [
        "%%sql\n",
        "select nombre,email,telefono from empleado\n",
        "UNION\n",
        "select nombre,email,telefono from cliente"
      ]
    },
    {
      "cell_type": "markdown",
      "metadata": {
        "id": "xmCN-xFxeqSH"
      },
      "source": [
        "### La Instrucción GROUP BY\n",
        "Permite agrupar valores por un valor común a ellos\n",
        "\n",
        "Sintaxis de la instrucción GROUP BY\n",
        "```sql\n",
        "SELECT column_name(s)\n",
        "FROM table_name\n",
        "WHERE condition\n",
        "GROUP BY column_name(s)\n",
        "```\n",
        "\n",
        "Veamos un ejemplo contamos la cantidad de clientes que habitan en cada ciudad."
      ]
    },
    {
      "cell_type": "code",
      "execution_count": null,
      "metadata": {
        "colab": {
          "base_uri": "https://localhost:8080/",
          "height": 114
        },
        "id": "CKR9PClDeqSH",
        "outputId": "201d7b7d-bbe2-46cd-a1a1-b1071dff75a9"
      },
      "outputs": [
        {
          "name": "stdout",
          "output_type": "stream",
          "text": [
            " * sqlite:///love4pets.db\n",
            "Done.\n"
          ]
        },
        {
          "data": {
            "text/html": [
              "<table>\n",
              "    <thead>\n",
              "        <tr>\n",
              "            <th>COUNT(nombre)</th>\n",
              "            <th>ciudad</th>\n",
              "        </tr>\n",
              "    </thead>\n",
              "    <tbody>\n",
              "        <tr>\n",
              "            <td>13</td>\n",
              "            <td>Madrid</td>\n",
              "        </tr>\n",
              "        <tr>\n",
              "            <td>2</td>\n",
              "            <td>Toledo</td>\n",
              "        </tr>\n",
              "    </tbody>\n",
              "</table>"
            ],
            "text/plain": [
              "[(13, 'Madrid'), (2, 'Toledo')]"
            ]
          },
          "execution_count": 47,
          "metadata": {},
          "output_type": "execute_result"
        }
      ],
      "source": [
        "%%sql\n",
        "select COUNT(nombre),ciudad from cliente\n",
        "GROUP BY ciudad"
      ]
    },
    {
      "cell_type": "markdown",
      "metadata": {
        "id": "f5oBXPqGeqSI"
      },
      "source": [
        "### **Ejercicio 8**\n",
        "--------\n",
        "No todas las personas tienen la misma cantidad de mascotas. Se requiere que usted indique el cliente y cantidad de mascotas que tiene cada cliente que tenga mascotas.\n"
      ]
    },
    {
      "cell_type": "code",
      "execution_count": 70,
      "metadata": {
        "id": "P0kqiQsGeqSI",
        "colab": {
          "base_uri": "https://localhost:8080/",
          "height": 413
        },
        "outputId": "26a66527-4494-41c9-e1ac-8860a3005a91"
      },
      "outputs": [
        {
          "output_type": "stream",
          "name": "stdout",
          "text": [
            " * sqlite:////content/love4pets.db\n",
            "   sqlite:///love4pets.db\n",
            "Done.\n"
          ]
        },
        {
          "output_type": "execute_result",
          "data": {
            "text/plain": [
              "[('Aitor Ruiz Sanchez', 0),\n",
              " ('Alberto Sanz Ruiz', 2),\n",
              " ('Arnau Medina Garcia', 1),\n",
              " ('Carlos Costa Guerrero', 1),\n",
              " ('Eric Rubio Carrasco', 0),\n",
              " ('Gabriel Gonzalez Ortega', 1),\n",
              " ('Ivan Medina Rubio', 2),\n",
              " ('Jan Vargas Santana', 0),\n",
              " ('Jesus Medina Hernandez', 0),\n",
              " ('Jose Gallardo Rodriguez', 1),\n",
              " ('Manuel Angel Gil', 0),\n",
              " ('Mario Flores Gallardo', 0),\n",
              " ('Pol Moya Pena', 0),\n",
              " ('Rayan Leon Ferrer', 1),\n",
              " ('Roberto Martin Ortega', 1)]"
            ],
            "text/html": [
              "<table>\n",
              "    <thead>\n",
              "        <tr>\n",
              "            <th>nombre</th>\n",
              "            <th>count(mascota.nombre)</th>\n",
              "        </tr>\n",
              "    </thead>\n",
              "    <tbody>\n",
              "        <tr>\n",
              "            <td>Aitor Ruiz Sanchez</td>\n",
              "            <td>0</td>\n",
              "        </tr>\n",
              "        <tr>\n",
              "            <td>Alberto Sanz Ruiz</td>\n",
              "            <td>2</td>\n",
              "        </tr>\n",
              "        <tr>\n",
              "            <td>Arnau Medina Garcia</td>\n",
              "            <td>1</td>\n",
              "        </tr>\n",
              "        <tr>\n",
              "            <td>Carlos Costa Guerrero</td>\n",
              "            <td>1</td>\n",
              "        </tr>\n",
              "        <tr>\n",
              "            <td>Eric Rubio Carrasco</td>\n",
              "            <td>0</td>\n",
              "        </tr>\n",
              "        <tr>\n",
              "            <td>Gabriel Gonzalez Ortega</td>\n",
              "            <td>1</td>\n",
              "        </tr>\n",
              "        <tr>\n",
              "            <td>Ivan Medina Rubio</td>\n",
              "            <td>2</td>\n",
              "        </tr>\n",
              "        <tr>\n",
              "            <td>Jan Vargas Santana</td>\n",
              "            <td>0</td>\n",
              "        </tr>\n",
              "        <tr>\n",
              "            <td>Jesus Medina Hernandez</td>\n",
              "            <td>0</td>\n",
              "        </tr>\n",
              "        <tr>\n",
              "            <td>Jose Gallardo Rodriguez</td>\n",
              "            <td>1</td>\n",
              "        </tr>\n",
              "        <tr>\n",
              "            <td>Manuel Angel Gil</td>\n",
              "            <td>0</td>\n",
              "        </tr>\n",
              "        <tr>\n",
              "            <td>Mario Flores Gallardo</td>\n",
              "            <td>0</td>\n",
              "        </tr>\n",
              "        <tr>\n",
              "            <td>Pol Moya Pena</td>\n",
              "            <td>0</td>\n",
              "        </tr>\n",
              "        <tr>\n",
              "            <td>Rayan Leon Ferrer</td>\n",
              "            <td>1</td>\n",
              "        </tr>\n",
              "        <tr>\n",
              "            <td>Roberto Martin Ortega</td>\n",
              "            <td>1</td>\n",
              "        </tr>\n",
              "    </tbody>\n",
              "</table>"
            ]
          },
          "metadata": {},
          "execution_count": 70
        }
      ],
      "source": [
        "%%sql\n",
        "select cliente.nombre, count(mascota.nombre)\n",
        "from cliente\n",
        "left join\n",
        "mascota on cliente.cliente_id = mascota.cliente_id\n",
        "group by cliente.nombre;\n"
      ]
    },
    {
      "cell_type": "markdown",
      "metadata": {
        "id": "CCDUZ92jeqSI"
      },
      "source": [
        "### La Instrucción HAVING\n",
        "Permite filtrar una busqueda donde se aplica una función de agregación sobre la condición.\n",
        "\n",
        "Sintaxis de la instrucción GROUP BY\n",
        "```sql\n",
        "SELECT column_name(s)\n",
        "FROM table_name\n",
        "WHERE condition\n",
        "HAVING column_name(s)\n",
        "```\n",
        "\n",
        "Tomando el mismo ejemplo anterior queremos mostrar las ciudades que tengan mas de 5 clientes."
      ]
    },
    {
      "cell_type": "code",
      "execution_count": null,
      "metadata": {
        "colab": {
          "base_uri": "https://localhost:8080/",
          "height": 94
        },
        "id": "ULeG4e1WeqSI",
        "outputId": "c6f3d61a-4a62-42f7-ebab-7fab0bc0c40f"
      },
      "outputs": [
        {
          "name": "stdout",
          "output_type": "stream",
          "text": [
            " * sqlite:///love4pets.db\n",
            "Done.\n"
          ]
        },
        {
          "data": {
            "text/html": [
              "<table>\n",
              "    <thead>\n",
              "        <tr>\n",
              "            <th>COUNT(nombre)</th>\n",
              "            <th>ciudad</th>\n",
              "        </tr>\n",
              "    </thead>\n",
              "    <tbody>\n",
              "        <tr>\n",
              "            <td>13</td>\n",
              "            <td>Madrid</td>\n",
              "        </tr>\n",
              "    </tbody>\n",
              "</table>"
            ],
            "text/plain": [
              "[(13, 'Madrid')]"
            ]
          },
          "execution_count": 48,
          "metadata": {},
          "output_type": "execute_result"
        }
      ],
      "source": [
        "%%sql\n",
        "select COUNT(nombre),ciudad from cliente\n",
        "GROUP BY ciudad HAVING COUNT(nombre) > 5;"
      ]
    },
    {
      "cell_type": "markdown",
      "metadata": {
        "id": "qx5yRkcjeqSI"
      },
      "source": [
        "### **Ejercicio 9**\n",
        "--------\n",
        "Se requiere que usted indique los clientes que tienen mas de una mascota."
      ]
    },
    {
      "cell_type": "code",
      "execution_count": 71,
      "metadata": {
        "colab": {
          "base_uri": "https://localhost:8080/",
          "height": 135
        },
        "id": "7P375xVMeqSJ",
        "outputId": "f2db76f9-31df-4408-8955-c5d97d0d2ae5"
      },
      "outputs": [
        {
          "output_type": "stream",
          "name": "stdout",
          "text": [
            " * sqlite:////content/love4pets.db\n",
            "   sqlite:///love4pets.db\n",
            "Done.\n"
          ]
        },
        {
          "output_type": "execute_result",
          "data": {
            "text/plain": [
              "[('Alberto Sanz Ruiz',), ('Ivan Medina Rubio',)]"
            ],
            "text/html": [
              "<table>\n",
              "    <thead>\n",
              "        <tr>\n",
              "            <th>nombre</th>\n",
              "        </tr>\n",
              "    </thead>\n",
              "    <tbody>\n",
              "        <tr>\n",
              "            <td>Alberto Sanz Ruiz</td>\n",
              "        </tr>\n",
              "        <tr>\n",
              "            <td>Ivan Medina Rubio</td>\n",
              "        </tr>\n",
              "    </tbody>\n",
              "</table>"
            ]
          },
          "metadata": {},
          "execution_count": 71
        }
      ],
      "source": [
        "%%sql\n",
        "select cliente.nombre\n",
        "from cliente\n",
        "left join\n",
        "mascota on cliente.cliente_id = mascota.cliente_id\n",
        "group by cliente.nombre\n",
        "having COUNT(mascota.nombre) > 1;\n"
      ]
    },
    {
      "cell_type": "markdown",
      "metadata": {
        "id": "8WrPA26zeqSJ"
      },
      "source": [
        "### La Instrucción INSERT\n",
        "La instrucción insert permite agregar nuevos valores a las tablas\n",
        "\n",
        "```sql\n",
        "INSERT INTO table_name (columna1, columna2, columna3, ...)\n",
        "VALUES (valor1, valor2, valor3, ...);\n",
        "```\n",
        "\n",
        "donde el valor1 es insertado en la columna1, el valor2 en la columna2 y asi sucesivamente."
      ]
    },
    {
      "cell_type": "code",
      "execution_count": null,
      "metadata": {
        "colab": {
          "base_uri": "https://localhost:8080/"
        },
        "id": "gXGeKe59eqSJ",
        "outputId": "d4cf2f71-3863-4e58-c146-b425fa8c086c"
      },
      "outputs": [
        {
          "name": "stdout",
          "output_type": "stream",
          "text": [
            " * sqlite:///love4pets.db\n",
            "1 rows affected.\n"
          ]
        },
        {
          "data": {
            "text/plain": [
              "[]"
            ]
          },
          "execution_count": 50,
          "metadata": {},
          "output_type": "execute_result"
        }
      ],
      "source": [
        "%sql insert into departamento( departamento_id, nombre) values(8,\"cosmetica\");"
      ]
    },
    {
      "cell_type": "markdown",
      "metadata": {
        "id": "q-qfpN-ReqSJ"
      },
      "source": [
        "### La Instrucción DELETE\n",
        "La instrucción DELETE permite ELIMINAR filas que cumplan con una determinada condición\n",
        "\n",
        "```sql\n",
        "DELETE FROM table_name\n",
        "WHERE condition;\n",
        "```\n"
      ]
    },
    {
      "cell_type": "code",
      "execution_count": null,
      "metadata": {
        "id": "efxjjj6ieqSJ"
      },
      "outputs": [],
      "source": [
        "%sql delete from departamento where departamento_id=8;"
      ]
    }
  ],
  "metadata": {
    "colab": {
      "provenance": [],
      "collapsed_sections": [
        "LsbjEnYieqRv",
        "evCeve0HeqRz",
        "pTF9yceFeqR0",
        "aHbuuwlteqR3",
        "L2LAr5XAeqR4",
        "nW2vSWwoeqR6",
        "cogCdjNXeqR-",
        "CBQBpJLNeqSA",
        "aVlOq-SYeqSD",
        "AwUppS7seqSH",
        "xmCN-xFxeqSH",
        "CCDUZ92jeqSI",
        "8WrPA26zeqSJ",
        "q-qfpN-ReqSJ"
      ]
    },
    "kernelspec": {
      "display_name": "Python 3 (ipykernel)",
      "language": "python",
      "name": "python3"
    },
    "language_info": {
      "codemirror_mode": {
        "name": "ipython",
        "version": 3
      },
      "file_extension": ".py",
      "mimetype": "text/x-python",
      "name": "python",
      "nbconvert_exporter": "python",
      "pygments_lexer": "ipython3",
      "version": "3.11.4"
    }
  },
  "nbformat": 4,
  "nbformat_minor": 0
}