{
 "cells": [
  {
   "cell_type": "markdown",
   "id": "200ef47f-f872-48cf-81d9-13c832bdd2e5",
   "metadata": {},
   "source": [
    "# Practica 1 - Primera Convocatoria"
   ]
  },
  {
   "cell_type": "markdown",
   "id": "d6688f21-3b29-4ad2-8524-0f2c6c510e49",
   "metadata": {},
   "source": [
    "## Complementos Formativos de Herramientas de Programación\n",
    "## Mario Salvador López Muñoz"
   ]
  },
  {
   "cell_type": "markdown",
   "id": "0700be06-7b6e-403c-a1b4-9d645376ab8c",
   "metadata": {},
   "source": [
    "### Ejercicio 1. Identificador válido. Para que los identificadores o nombres de las variables o funciones sean válidos deben comenzar e incluir letras a..z. (minúscula o mayúscula) o el guión bajo (_). Pueden incluir también números (0..9) pero que no sean el primer carácter del identificador. Diseña una función FirstChar(s) que, dado un string s (no vacío), nos devuelva True o False si el string es válido o no para identificar o dar nombre a una variable o función1. (0,5 puntos)"
   ]
  },
  {
   "cell_type": "code",
   "execution_count": 1,
   "id": "5aa0ff99-6d45-47fb-94ac-3ec654e8854e",
   "metadata": {},
   "outputs": [
    {
     "name": "stdout",
     "output_type": "stream",
     "text": [
      "True\n",
      "False\n",
      "True\n",
      "El string está vacio\n",
      "None\n"
     ]
    }
   ],
   "source": [
    "def FirstChar(s):\n",
    "    if len(s) == 0: #si s está vacio\n",
    "        return print('El string está vacio')\n",
    "    elif s[0].isalpha() == True or s[0] == '_': #condicion de que sea True; que sea un caracter alfabetico o sea una '_'\n",
    "        return True\n",
    "    else:\n",
    "        return False\n",
    "\n",
    "string1 ='Hola a todos'  #esto son las pruebas que se me ha ocurrido hacer\n",
    "string2 ='31yfeliz'\n",
    "string3 ='_comodin'\n",
    "string4 = ''\n",
    "print(FirstChar(string1))\n",
    "print(FirstChar(string2))\n",
    "print(FirstChar(string3))\n",
    "print(FirstChar(string4))"
   ]
  },
  {
   "cell_type": "markdown",
   "id": "3b8b5dd5-3266-4aa6-973f-52458cc4748a",
   "metadata": {},
   "source": [
    "### Ejercicio 2. Porcentaje de vocales. Escribe una función porcentVocal(s) en que dado un string s, la función devuelva el porcentaje de vocales que contiene el string. Deben considerarse vocales minúsculas mayúsculas. Devolver el resultado con un decimal de precisión. Consideraremos que las vocales están sin tilde o acento gráfico. Se valorará prever el caso que se envíe como argumento un string vacío. (0,5 puntos)"
   ]
  },
  {
   "cell_type": "code",
   "execution_count": 2,
   "id": "a6316642-8b0b-49b0-bb92-ffb8706a7401",
   "metadata": {},
   "outputs": [
    {
     "name": "stdout",
     "output_type": "stream",
     "text": [
      "50.0\n",
      "25.0\n",
      "37.5\n",
      "El string esta vacio\n"
     ]
    }
   ],
   "source": [
    "def porcentVocal(s):\n",
    "    num_char = len(s) #se mide la longitud de s\n",
    "    num_vocal = 0 #iniciamos variable de numero de vocales\n",
    "    vocales = ['a', 'e', 'i', 'o', 'u'] #creamos un string con todas las vocales\n",
    "    i = 0 #iniciamos contador para el while\n",
    "    if len(s) == 0: # comproblamos que el string no este vacio\n",
    "        return print('El string esta vacio') \n",
    "    while i < num_char:\n",
    "        if s[i] in vocales: # si el caracter es una vocal, sumamos 1 a la variable num_vocal\n",
    "            num_vocal +=1\n",
    "        i += 1\n",
    "    percent_vocal = round(num_vocal*100/num_char, 1) #calculamos el porcentaje\n",
    "    return print(percent_vocal)\n",
    "\n",
    "string1 ='Hola a too' #esto son las pruebas que se me ha ocurrido hacer\n",
    "string2 ='31yfeliz'\n",
    "string3 ='_comodin'\n",
    "string4 = ''\n",
    "porcentVocal(string1)\n",
    "porcentVocal(string2)\n",
    "porcentVocal(string3)\n",
    "porcentVocal(string4)"
   ]
  },
  {
   "cell_type": "markdown",
   "id": "2fc26ecb-4ec9-40cd-a25b-9b2961963054",
   "metadata": {},
   "source": [
    "### Ejercicio 3. Dado un string s que contiene los nombres y apellidos de una persona, diseña la función codigo(s) que devuelva el string ini + str(count), donde ini contiene las iniciales de la persona (las letras mayúsculas de s) y count es el número total de letras de sus nombres y apellidos (es decir, las letras de s sin contar caracteres blancos o espacios). (1 punto)"
   ]
  },
  {
   "cell_type": "code",
   "execution_count": 3,
   "id": "d881b41f-72fb-4134-8d78-5c057d0b73be",
   "metadata": {},
   "outputs": [
    {
     "name": "stdout",
     "output_type": "stream",
     "text": [
      "JP + str(14)\n",
      "MAGPMR + str(35)\n",
      "En el string de entrada no hay mayusculas\n",
      "En el string de entrada no hay mayusculas\n"
     ]
    }
   ],
   "source": [
    "def codigo(s):\n",
    "    ini = ''\n",
    "    count = 0\n",
    "    for i in s:\n",
    "        if i.isupper(): # filtrando las mayusculas. (Cuenta como letra de sus nombres y apellidos)\n",
    "            #print('pass if ' + i) #comprobando que pase por aqui\n",
    "            ini = ini + i #se añade la letra a las iniciales\n",
    "            count += 1\n",
    "        elif i == ' ': #si es espacio saltamos esta iteración\n",
    "            #print('pass elif ' + i) #comprobando que pase por aqui\n",
    "            continue\n",
    "        else: #si no es un espacio ni una mayuscula añadimos al contador de letras de sus nombres y apellidos\n",
    "            #print('pass else ' + i) #comprobando que pase por aqui\n",
    "            count +=1\n",
    "    #print(ini) # comprobando que ha guardado en ini\n",
    "    #print(count) # comprobando que ha guardado en count\n",
    "    if len(ini) ==0:\n",
    "        return print('En el string de entrada no hay mayusculas') #si no hay nada en ini algo ha pasado\n",
    "    return print(ini + ' + str(' + str(count) + ')') # Lo devolvemos en el formato que nos han pedido\n",
    "\n",
    "string1 ='Joaquin Pedraza' #esto son las pruebas que se me ha ocurrido hacer\n",
    "string2 ='Miguel Angel Gonzalez Perez Miguel Rueda'\n",
    "string3 ='_comodin 33'\n",
    "string4 = ' un error'\n",
    "codigo(string1)\n",
    "codigo(string2)\n",
    "codigo(string3)\n",
    "codigo(string4)"
   ]
  },
  {
   "cell_type": "markdown",
   "id": "ff1b46a3-f68b-4332-8da1-9d41560a31dd",
   "metadata": {},
   "source": [
    "## Ejercicios con listas"
   ]
  },
  {
   "cell_type": "markdown",
   "id": "ef570f31-d794-4d76-9e92-33da237369cd",
   "metadata": {},
   "source": [
    "### Ejercicio 4. Diseña la función mediaTempRang(lst) en que, dada una lista lst de medidas de temperatura en ºC de un experimento, calcule y devuelva el valor medio de aquellas temperaturas de la lista que estén en el rango de 15 a 45 ºC, inclusive [15, 45]. Devolver el resultado redondeado a 2 cifras decimales. También considerar el caso en que ninguna medida de temperatura de la lista esté en el rango dado. En este caso la función devuelve el valor -1. (1 punto)"
   ]
  },
  {
   "cell_type": "code",
   "execution_count": 4,
   "id": "b29fa7a8-145e-4abd-87a6-fdce4512204a",
   "metadata": {},
   "outputs": [
    {
     "name": "stdout",
     "output_type": "stream",
     "text": [
      "35.33\n",
      "36.0\n",
      "-1\n",
      "La lista está vacia\n"
     ]
    }
   ],
   "source": [
    "def mediaTempRang(lst):\n",
    "    contador = 0\n",
    "    sumatorio_temp = 0\n",
    "    if len(lst) == 0:\n",
    "        return print('La lista está vacia')\n",
    "    \n",
    "    for i in lst:\n",
    "        if i >= 15 and i <= 45:\n",
    "            sumatorio_temp += i\n",
    "            contador += 1\n",
    "        else:\n",
    "            continue\n",
    "    if contador == 0:\n",
    "        return print('-1')\n",
    "    else:\n",
    "        mediaTemp = round(sumatorio_temp/contador, 2)\n",
    "        return print(mediaTemp)\n",
    "            \n",
    "lista1 = [35, 35, 36]\n",
    "lista2 = [12, 35, 36, 37, 200]\n",
    "lista3 = [12, 9, 2, 14, 55]\n",
    "lista4 = []\n",
    "mediaTempRang(lista1)\n",
    "mediaTempRang(lista2)\n",
    "mediaTempRang(lista3)\n",
    "mediaTempRang(lista4)\n"
   ]
  },
  {
   "cell_type": "markdown",
   "id": "c4bbc8c8-651f-4750-8e41-4d83a04ce548",
   "metadata": {},
   "source": [
    "### Ejercicio 5.  Números primos. Diseña una función en la que introduce los primeros 100 números primos en una lista. Un número primo es un número natural mayor que 1 que tiene únicamente dos divisores positivos distintos: él mismo y el 1. Se valorará la rapidez de ejecución de la función y su eficacia. (1 punto)"
   ]
  },
  {
   "cell_type": "code",
   "execution_count": 5,
   "id": "cb5840e7-e4f8-4f6c-864f-aa6da3291c79",
   "metadata": {},
   "outputs": [
    {
     "name": "stdout",
     "output_type": "stream",
     "text": [
      "[2, 3, 5, 7, 11, 13, 17, 19, 23, 29, 31, 37, 41, 43, 47, 53, 59, 61, 67, 71, 73, 79, 83, 89, 97, 101, 103, 107, 109, 113, 127, 131, 137, 139, 149, 151, 157, 163, 167, 173, 179, 181, 191, 193, 197, 199, 211, 223, 227, 229, 233, 239, 241, 251, 257, 263, 269, 271, 277, 281, 283, 293, 307, 311, 313, 317, 331, 337, 347, 349, 353, 359, 367, 373, 379, 383, 389, 397, 401, 409, 419, 421, 431, 433, 439, 443, 449, 457, 461, 463, 467, 479, 487, 491, 499, 503, 509, 521, 523, 541]\n"
     ]
    }
   ],
   "source": [
    "def primos():\n",
    "    listaprimos = [] #lista de primos(tengo que añadir el primero primo... Sino no funciona\n",
    "    conteo = 1        #posible numero que añadir a la lista\n",
    "    while len(listaprimos) < 100: #condicion de continuidad : Que la lista sea menor que 100 numeros primos\n",
    "        conteo +=1\n",
    "        if conteo == 2:\n",
    "            listaprimos.append(conteo)\n",
    "        for i in listaprimos: #comprobamos que el numero sea primo. i es un numero primo en listaprimos\n",
    "            if conteo%i == 0:   # si se puede dividir, y por lo tanto no es primo, que salga del bucle y compruebe el siguiente numero\n",
    "                break\n",
    "            elif i == listaprimos[-1]: #si estamos comprobando el ultimo elemento de la lista\n",
    "                if conteo%i != 0:      # y si el numero que estamos comprobamando no esta en la lista\n",
    "                    listaprimos.append(conteo) # lo añadimos a la lista\n",
    "\n",
    "    return listaprimos\n",
    "\n",
    "print(primos())\n",
    "                "
   ]
  },
  {
   "cell_type": "markdown",
   "id": "f2948a67-22c8-4cd1-8a58-82cd854da9fd",
   "metadata": {},
   "source": [
    "### Ejercicio 6. Contar positivos. Dada una lista de listas que representa una matriz cuadrada m, diseña una función contar_pos(m), que cuente los números positivos que tiene. (1 punto)"
   ]
  },
  {
   "cell_type": "code",
   "execution_count": 6,
   "id": "88585a04-d8a3-4bb7-b1ef-e470eebb7392",
   "metadata": {},
   "outputs": [
    {
     "name": "stdout",
     "output_type": "stream",
     "text": [
      "La matriz introducida tiene 8 numeros positivos\n"
     ]
    }
   ],
   "source": [
    "def contar_pos(m):\n",
    "    num_pos = 0\n",
    "    nf = len(m)\n",
    "    nc = len(m[0])\n",
    "    for i in range(nf):\n",
    "        for j in range(nc):\n",
    "            if m[i][j] > 0:\n",
    "                num_pos += 1\n",
    "    return print('La matriz introducida tiene ' + str(num_pos) + ' numeros positivos')\n",
    "\n",
    "\n",
    "matriz = [[-1, -2, 3, 4], [5, 6, -7, -8], [-9, 10, 11, -12], [13, -14, -15, 16]]\n",
    "contar_pos(matriz)"
   ]
  },
  {
   "cell_type": "markdown",
   "id": "2b0394e9-77b1-4fcf-8e48-d443aa1da579",
   "metadata": {},
   "source": [
    "## DATOS ESTRUCTURADOS: DICCIONARIOS Y DATAFRAMES"
   ]
  },
  {
   "cell_type": "markdown",
   "id": "c8d7f7e1-d571-441c-afb2-f19b8c5037d8",
   "metadata": {},
   "source": [
    "## EJERCICIOS CON DICCIONARIOS"
   ]
  },
  {
   "cell_type": "markdown",
   "id": "bd803abc-15bd-4429-8a88-27d85bc9fb47",
   "metadata": {},
   "source": [
    "### Ejercicio 7. Temperaturas ciudades. Se tienen las temperaturas de ciudades durante los primeros 4 meses del año en una lista de listas, donde cada lista representa la información de una ciudad (nombre y luego las temperaturas). Diseña una función TempMaxMin(lst) en que, dada una lista de listas como que la que se presenta, devuelva un diccionario con los nombres de las ciudades como claves y como valores una lista con las temperaturas máxima y mínima. (1 punto)\n",
    "\n",
    "### Lista de ciudades :\n",
    "\n",
    "### lst_ciudad = [['Londres', 3.4, 6.3, 10.5, 6.8], ['Oslo', -3.8, -5.0, 5.1, 4.2],\n",
    "### \\ ['Berlin', 7.5, 4.1, 12.3, 13.0], ['Málaga', 14.7, 12.3, 19.5, 18.4]]"
   ]
  },
  {
   "cell_type": "code",
   "execution_count": 7,
   "id": "22df9fa3-c61a-4121-94ed-f9476f5ec30c",
   "metadata": {},
   "outputs": [
    {
     "name": "stdout",
     "output_type": "stream",
     "text": [
      "{'Londres': [10.5, 3.4], 'Oslo': [5.1, -5.0], 'Berlin': [13.0, 4.1], 'Málaga': [19.5, 12.3]}\n"
     ]
    }
   ],
   "source": [
    "\n",
    "def TempMaxMin2(lst):\n",
    "    Dic_ciudad = {} #Diccionario vacio donde añadiremos los valores\n",
    "    for ciudad in lst:\n",
    "        Dic_ciudad[ciudad[0]]=[max(ciudad[1:]), min(ciudad[1:])] #la clave del dic es la posición 0 y valor del dic el máximo y mínimo sin contar la posicion 0\n",
    "    return Dic_ciudad\n",
    "\n",
    "lst_ciudad = [['Londres', 3.4, 6.3, 10.5, 6.8], ['Oslo', -3.8, -5.0, 5.1, 4.2], ['Berlin', 7.5, 4.1, 12.3, 13.0], ['Málaga', 14.7, 12.3, 19.5, 18.4]]     \n",
    "\n",
    "print(TempMaxMin2(lst_ciudad))\n"
   ]
  },
  {
   "cell_type": "code",
   "execution_count": null,
   "id": "f33e2426-b2dd-42ac-b216-f72162050955",
   "metadata": {},
   "outputs": [],
   "source": []
  },
  {
   "cell_type": "markdown",
   "id": "6fb3bd3b-70f9-4569-ab72-d296ac621d01",
   "metadata": {},
   "source": [
    "### Ejercicio 8. Hipertensión. Se dispone de un diccionario de personas con su presión arterial. En cada elemento del diccionario la clave es el nombre de la persona y el valor es una lista con la edad y las presiones sistólica (alta) y diastólica (baja). Si consideramos que una persona sufre de hipertensión si la presión sistólica es mayor o igual a 140 mmHg o la diastólica es mayor o igual a 90 mmHg, diseña una función lst_hiper(dic, edad) en que, dado un diccionario dic como el descrito y una edad, devuelva la lista de los nombres de las personas menores de esa edad que sufren hipertensión arterial. Se valorará devolver la lista de nombres ordenada alfabéticamente. (1 punto)\n",
    "\n",
    "### Diccionario de personas con los datos de Edad, presiones sistólica (alta) y presiones diastólica (baja):\n",
    "\n",
    "### dpers = {'Maria': [20, 135, 90],'Nuria': [63, 141, 92], 'Jose': [47, 110, 59], 'Luis': [49, 146, 94], 'Oriol':\n",
    "### [52, 130, 89], 'Carlos': [65, 125, 89], 'Pepe': [70, 130, 92] }"
   ]
  },
  {
   "cell_type": "code",
   "execution_count": 8,
   "id": "27900360-b33b-44d8-8a35-035830f4c428",
   "metadata": {},
   "outputs": [
    {
     "name": "stdout",
     "output_type": "stream",
     "text": [
      "['Luis', 'Maria', 'Nuria']\n"
     ]
    }
   ],
   "source": [
    "\n",
    "def lst_hiper(dic, edad):\n",
    "    nombres = []\n",
    "\n",
    "    for persona in dic:\n",
    "        if dic[persona][0] < edad:\n",
    "            if dic[persona][1] >= 140 or dic[persona][2] >= 90: # Tienen hipertension si [i][1] > 140 o s [i][2] > 90\n",
    "                nombres.append(persona)\n",
    "    nombres.sort() #ordenamos alfabeticamente\n",
    "    return nombres\n",
    "\n",
    "dpers = {'Maria': [20, 135, 90],'Nuria': [63, 141, 92], 'Jose': [47, 110, 59], 'Luis': [49, 146, 94], 'Oriol':[52, 130, 89], 'Carlos': [65, 125, 89], 'Pepe': [70, 130, 92] }\n",
    "\n",
    "print(lst_hiper(dpers, 70))"
   ]
  },
  {
   "cell_type": "markdown",
   "id": "3c8466ec-183c-42f0-b894-e35896ec8b9e",
   "metadata": {},
   "source": [
    "## EJERCICIOS CON DATAFRAMES"
   ]
  },
  {
   "cell_type": "markdown",
   "id": "5fb9e9c0-6768-4a50-9983-23ff0a20dba2",
   "metadata": {},
   "source": [
    "### Ejercicio 9. Temperatura ciudades en DataFrame. A partir de lst_ciudad de las temperaturas de las ciudades de los primeros 4 meses del año del ejercicio 7: (1 punto)\n",
    "\n",
    "### a) Diseña un código para crear un objeto DataFrame que contenga en sus columnas: 'Ciudad', 'Enero', 'Febrero', 'Marzo', 'Abril' y los datos sean los valores de las listas de ciudades de lst_ciudad. Agregar como nombre del DataFrame: 'Temperatura ciudades'.\n",
    "\n",
    "### b) Escribe un código para agregar la temperatura mínima, máxima, media y desviación estándar de los 4 primeros meses del año al DataFrame anterior."
   ]
  },
  {
   "cell_type": "code",
   "execution_count": 9,
   "id": "c2616bc0-1368-462a-aafc-ec16efd9f8f1",
   "metadata": {},
   "outputs": [
    {
     "name": "stdout",
     "output_type": "stream",
     "text": [
      "    Ciudad  Enero  Febrero  Marzo  Abril  T. Min  T. Max   T. media       Std\n",
      "0  Londres    3.4      6.3   10.5    6.8     3.4    10.5   6.816667  2.908274\n",
      "1     Oslo   -3.8     -5.0    5.1    4.2    -5.0     5.1   0.100000  4.726521\n",
      "2   Berlin    7.5      4.1   12.3   13.0     4.1    13.0   9.000000  3.940389\n",
      "3   Málaga   14.7     12.3   19.5   18.4    12.3    19.5  16.116667  3.142407\n"
     ]
    }
   ],
   "source": [
    "import pandas as pd #Necesario importar la libreria pandas\n",
    "\n",
    "#a)\n",
    "df = pd.DataFrame(lst_ciudad,\n",
    "columns = ['Ciudad', 'Enero', 'Febrero', 'Marzo', 'Abril'])\n",
    "df.name = 'Temperatura ciudades'\n",
    "#b)\n",
    "df['T. Min'] = df.iloc[:,1:].min(axis=1) #utilizo iloc para filtrar las columnas y no comprobar la columna Ciudad.\n",
    "df['T. Max'] = df.loc[:, df.columns != 'Ciudad'].max(axis=1) #También se puede hacer así con loc. (Estoy aprendiendo)\n",
    "df['T. media'] = df.iloc[:,1:].mean(axis=1)\n",
    "df['Std'] = df.iloc[:,1:].std(axis=1)\n",
    "\n",
    "\n",
    "\n",
    "\n",
    "print(df) #imprimimos la libreria\n",
    "\n"
   ]
  },
  {
   "cell_type": "markdown",
   "id": "8c4b951d-2f1e-4870-9f1d-0caecbca8b39",
   "metadata": {},
   "source": [
    "### Ejercicio 10.  Valor de las acciones de Apple. El documento CSV de este enlace, extraído de la web https://finance.yahoo.com, muestra el valor de las acciones de la empresa Apple en cada día laborable del último año. Este archivo contiene 7 atributos: (2 puntos)\n",
    "\n",
    "\n",
    "### Date – Fecha del día\n",
    "### Open – Valor de la acción a la apertura del día.\n",
    "### High – Valor más alto de la acción en el día.\n",
    "### Low – Valor más bajo de la acción en el día.\n",
    "### Close – Valor de la acción al cierre del día.\n",
    "### Adj Close – *Adjusted close price adjusted for splits and dividend and/or capital gain distributions.\n",
    "### Volume – Volumen de compra/venta de acciones en el día.\n",
    "\n",
    "### Para la importación y el uso del fichero CSV se debe utilizar la librería pandas.\n",
    "\n",
    "### a) Crea un Dataframe que tenga las mismas columnas que el fichero CSV."
   ]
  },
  {
   "cell_type": "code",
   "execution_count": 10,
   "id": "c9048c8e-6514-4108-a8c6-9825587ccc76",
   "metadata": {},
   "outputs": [
    {
     "data": {
      "text/html": [
       "<div>\n",
       "<style scoped>\n",
       "    .dataframe tbody tr th:only-of-type {\n",
       "        vertical-align: middle;\n",
       "    }\n",
       "\n",
       "    .dataframe tbody tr th {\n",
       "        vertical-align: top;\n",
       "    }\n",
       "\n",
       "    .dataframe thead th {\n",
       "        text-align: right;\n",
       "    }\n",
       "</style>\n",
       "<table border=\"1\" class=\"dataframe\">\n",
       "  <thead>\n",
       "    <tr style=\"text-align: right;\">\n",
       "      <th></th>\n",
       "      <th>Date</th>\n",
       "      <th>Open</th>\n",
       "      <th>High</th>\n",
       "      <th>Low</th>\n",
       "      <th>Close</th>\n",
       "      <th>Adj Close</th>\n",
       "      <th>Volume</th>\n",
       "    </tr>\n",
       "  </thead>\n",
       "  <tbody>\n",
       "    <tr>\n",
       "      <th>0</th>\n",
       "      <td>2022-09-12</td>\n",
       "      <td>159.589996</td>\n",
       "      <td>164.259995</td>\n",
       "      <td>159.300003</td>\n",
       "      <td>163.429993</td>\n",
       "      <td>162.466171</td>\n",
       "      <td>104956000</td>\n",
       "    </tr>\n",
       "    <tr>\n",
       "      <th>1</th>\n",
       "      <td>2022-09-13</td>\n",
       "      <td>159.899994</td>\n",
       "      <td>160.539993</td>\n",
       "      <td>153.369995</td>\n",
       "      <td>153.839996</td>\n",
       "      <td>152.932739</td>\n",
       "      <td>122656600</td>\n",
       "    </tr>\n",
       "    <tr>\n",
       "      <th>2</th>\n",
       "      <td>2022-09-14</td>\n",
       "      <td>154.789993</td>\n",
       "      <td>157.100006</td>\n",
       "      <td>153.610001</td>\n",
       "      <td>155.309998</td>\n",
       "      <td>154.394073</td>\n",
       "      <td>87965400</td>\n",
       "    </tr>\n",
       "    <tr>\n",
       "      <th>3</th>\n",
       "      <td>2022-09-15</td>\n",
       "      <td>154.649994</td>\n",
       "      <td>155.240005</td>\n",
       "      <td>151.380005</td>\n",
       "      <td>152.369995</td>\n",
       "      <td>151.471420</td>\n",
       "      <td>90481100</td>\n",
       "    </tr>\n",
       "    <tr>\n",
       "      <th>4</th>\n",
       "      <td>2022-09-16</td>\n",
       "      <td>151.210007</td>\n",
       "      <td>151.350006</td>\n",
       "      <td>148.369995</td>\n",
       "      <td>150.699997</td>\n",
       "      <td>149.811264</td>\n",
       "      <td>162278800</td>\n",
       "    </tr>\n",
       "  </tbody>\n",
       "</table>\n",
       "</div>"
      ],
      "text/plain": [
       "         Date        Open        High         Low       Close   Adj Close  \\\n",
       "0  2022-09-12  159.589996  164.259995  159.300003  163.429993  162.466171   \n",
       "1  2022-09-13  159.899994  160.539993  153.369995  153.839996  152.932739   \n",
       "2  2022-09-14  154.789993  157.100006  153.610001  155.309998  154.394073   \n",
       "3  2022-09-15  154.649994  155.240005  151.380005  152.369995  151.471420   \n",
       "4  2022-09-16  151.210007  151.350006  148.369995  150.699997  149.811264   \n",
       "\n",
       "      Volume  \n",
       "0  104956000  \n",
       "1  122656600  \n",
       "2   87965400  \n",
       "3   90481100  \n",
       "4  162278800  "
      ]
     },
     "execution_count": 10,
     "metadata": {},
     "output_type": "execute_result"
    }
   ],
   "source": [
    "import pandas as pd #Necesario importar la libreria pandas\n",
    "apple = pd.read_csv('AAPL_Finance.csv')\n",
    "\n",
    "apple.head()"
   ]
  },
  {
   "cell_type": "markdown",
   "id": "0cb7ac7a-3adf-4cca-9680-1782eb171b34",
   "metadata": {},
   "source": [
    "### b) Si invierto 100$ a la apertura del 01/06/2023 y vendo al cierre del 05/09/2023, ¿gano o pierdo?, ¿cuánto?"
   ]
  },
  {
   "cell_type": "code",
   "execution_count": 14,
   "id": "916157f4-00ee-4b1e-805c-35a7e34b7528",
   "metadata": {},
   "outputs": [
    {
     "name": "stdout",
     "output_type": "stream",
     "text": [
      "La diferencia de precio entre la compra y la venta es de: 12.0, si es positivo, gano dinero, si es negativo, pierdo.\n",
      "El precio por acción a la compra a la apertura es de 177.7 si invierto 100$ tengo 0.56 acciones.\n",
      "Cuando vendo, el precio de venta al cierre es de 189.7 si tengo las acciones arriba mencionadas, en total he ganado 6.75$.\n"
     ]
    }
   ],
   "source": [
    "import datetime as dt\n",
    "\n",
    "index_Apertura = apple.loc[apple.Date == '2023-06-01'].index[0] #obtengo el index de la fila con fecha 2023-06-01.\n",
    "index_Cierre = apple.loc[apple.Date == '2023-09-05'].index[0] #similar al de arriba\n",
    "\n",
    "inversion =(apple.iloc[index_Cierre, 4] - apple.iloc[index_Apertura, 1]) #Obtengo los valores en las columnas de entrada y salida de las fechas de arriba respectivamente. Y las resto para obtener la diferencia\n",
    "\n",
    "print('La diferencia de precio entre la compra y la venta es de: ' + str(inversion) + ', si es positivo, gano dinero, si es negativo, pierdo.')\n",
    "\n",
    "print('El precio por acción a la compra a la apertura es de ' + str(round(apple.iloc[index_Apertura, 1], 2)) + ' si invierto 100$ tengo ' + str(round(100/apple.iloc[index_Apertura, 1],2)) + ' acciones.')\n",
    "\n",
    "print('Cuando vendo, el precio de venta al cierre es de ' + str(round(apple.iloc[index_Cierre, 4], 2)) + ' si tengo las acciones arriba mencionadas, en total he ganado ' + str(round(100*apple.iloc[index_Cierre, 4]/apple.iloc[index_Apertura, 1]-100,2)) + '$.')            \n",
    "\n"
   ]
  },
  {
   "cell_type": "markdown",
   "id": "d039ee23-daa0-404c-a081-c32d457521b9",
   "metadata": {},
   "source": [
    "### c) Escribe un código para agregar las columnas con los valores mínimo, máximo, media y desviación estandar del Volumen de todo el año."
   ]
  },
  {
   "cell_type": "code",
   "execution_count": 172,
   "id": "b7395384-42b0-4445-b3e3-166e314ea701",
   "metadata": {},
   "outputs": [
    {
     "name": "stdout",
     "output_type": "stream",
     "text": [
      "         Date        Open        High         Low       Close   Adj Close  \\\n",
      "0  2022-09-12  159.589996  164.259995  159.300003  163.429993  162.466171   \n",
      "1  2022-09-13  159.899994  160.539993  153.369995  153.839996  152.932739   \n",
      "2  2022-09-14  154.789993  157.100006  153.610001  155.309998  154.394073   \n",
      "3  2022-09-15  154.649994  155.240005  151.380005  152.369995  151.471420   \n",
      "4  2022-09-16  151.210007  151.350006  148.369995  150.699997  149.811264   \n",
      "\n",
      "      Volume  Valor Min  Valor Max   Valor media           Std  \n",
      "0  104956000   31458200  164762400  6.951468e+07  2.406089e+07  \n",
      "1  122656600   31458200  164762400  6.951468e+07  2.406089e+07  \n",
      "2   87965400   31458200  164762400  6.951468e+07  2.406089e+07  \n",
      "3   90481100   31458200  164762400  6.951468e+07  2.406089e+07  \n",
      "4  162278800   31458200  164762400  6.951468e+07  2.406089e+07  \n"
     ]
    }
   ],
   "source": [
    "#No estoy seguro de haber entendido bien este ejercicio, me parece extraño que el objetivo sea añadir columnas con todos los valores iguales, pero eso es lo que he entendido\n",
    "\n",
    "apple['Valor Min'] = apple.Volume.min(axis=0)\n",
    "apple['Valor Max'] = apple.Volume.max(axis=0)\n",
    "apple['Valor media'] = apple.Volume.mean(axis=0)\n",
    "apple['Std'] = apple.Volume.std(axis=0)\n",
    "\n",
    "print(apple.head())"
   ]
  }
 ],
 "metadata": {
  "kernelspec": {
   "display_name": "Python 3 (ipykernel)",
   "language": "python",
   "name": "python3"
  },
  "language_info": {
   "codemirror_mode": {
    "name": "ipython",
    "version": 3
   },
   "file_extension": ".py",
   "mimetype": "text/x-python",
   "name": "python",
   "nbconvert_exporter": "python",
   "pygments_lexer": "ipython3",
   "version": "3.11.5"
  }
 },
 "nbformat": 4,
 "nbformat_minor": 5
}
